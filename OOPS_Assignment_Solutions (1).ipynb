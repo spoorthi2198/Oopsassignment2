{
 "cells": [
  {
   "cell_type": "markdown",
   "id": "995368bf",
   "metadata": {},
   "source": [
    "# OOPS Assignment\n",
    "---"
   ]
  },
  {
   "cell_type": "markdown",
   "id": "52b123ba",
   "metadata": {},
   "source": [
    "## Constructor\n",
    "---"
   ]
  },
  {
   "cell_type": "markdown",
   "id": "f8e571dc",
   "metadata": {},
   "source": [
    "### Question 1"
   ]
  },
  {
   "cell_type": "code",
   "execution_count": null,
   "id": "d24aa6b3",
   "metadata": {},
   "outputs": [],
   "source": [
    "# Write your code or answer below:\n"
   ]
  },
  {
   "cell_type": "markdown",
   "id": "93b87637",
   "metadata": {},
   "source": [
    "### Question 2"
   ]
  },
  {
   "cell_type": "code",
   "execution_count": null,
   "id": "8852634f",
   "metadata": {},
   "outputs": [],
   "source": [
    "# Write your code or answer below:\n"
   ]
  },
  {
   "cell_type": "markdown",
   "id": "0f845f9b",
   "metadata": {},
   "source": [
    "### Question 3"
   ]
  },
  {
   "cell_type": "code",
   "execution_count": null,
   "id": "cbfee835",
   "metadata": {},
   "outputs": [],
   "source": [
    "# Write your code or answer below:\n"
   ]
  },
  {
   "cell_type": "markdown",
   "id": "5fe56d51",
   "metadata": {},
   "source": [
    "### Question 4"
   ]
  },
  {
   "cell_type": "code",
   "execution_count": null,
   "id": "42dbefea",
   "metadata": {},
   "outputs": [],
   "source": [
    "# Write your code or answer below:\n"
   ]
  },
  {
   "cell_type": "markdown",
   "id": "7ae5b956",
   "metadata": {},
   "source": [
    "### Question 5"
   ]
  },
  {
   "cell_type": "code",
   "execution_count": null,
   "id": "1a0ecacf",
   "metadata": {},
   "outputs": [],
   "source": [
    "# Write your code or answer below:\n"
   ]
  },
  {
   "cell_type": "markdown",
   "id": "fe7abaef",
   "metadata": {},
   "source": [
    "### Question 6"
   ]
  },
  {
   "cell_type": "code",
   "execution_count": null,
   "id": "accc3c8e",
   "metadata": {},
   "outputs": [],
   "source": [
    "# Write your code or answer below:\n"
   ]
  },
  {
   "cell_type": "markdown",
   "id": "f04e99a7",
   "metadata": {},
   "source": [
    "### Question 7"
   ]
  },
  {
   "cell_type": "code",
   "execution_count": null,
   "id": "3a94ea56",
   "metadata": {},
   "outputs": [],
   "source": [
    "# Write your code or answer below:\n"
   ]
  },
  {
   "cell_type": "markdown",
   "id": "fe43bdc4",
   "metadata": {},
   "source": [
    "### Question 8"
   ]
  },
  {
   "cell_type": "code",
   "execution_count": null,
   "id": "1034875c",
   "metadata": {},
   "outputs": [],
   "source": [
    "# Write your code or answer below:\n"
   ]
  },
  {
   "cell_type": "markdown",
   "id": "6221b194",
   "metadata": {},
   "source": [
    "### Question 9"
   ]
  },
  {
   "cell_type": "code",
   "execution_count": null,
   "id": "2076e673",
   "metadata": {},
   "outputs": [],
   "source": [
    "# Write your code or answer below:\n"
   ]
  },
  {
   "cell_type": "markdown",
   "id": "314be040",
   "metadata": {},
   "source": [
    "### Question 10"
   ]
  },
  {
   "cell_type": "code",
   "execution_count": null,
   "id": "33c8fb41",
   "metadata": {},
   "outputs": [],
   "source": [
    "# Write your code or answer below:\n"
   ]
  },
  {
   "cell_type": "markdown",
   "id": "481c3921",
   "metadata": {},
   "source": [
    "### Question 11"
   ]
  },
  {
   "cell_type": "code",
   "execution_count": null,
   "id": "8d63d485",
   "metadata": {},
   "outputs": [],
   "source": [
    "# Write your code or answer below:\n"
   ]
  },
  {
   "cell_type": "markdown",
   "id": "1a085299",
   "metadata": {},
   "source": [
    "### Question 12"
   ]
  },
  {
   "cell_type": "code",
   "execution_count": null,
   "id": "244dac5c",
   "metadata": {},
   "outputs": [],
   "source": [
    "# Write your code or answer below:\n"
   ]
  },
  {
   "cell_type": "markdown",
   "id": "89c74f47",
   "metadata": {},
   "source": [
    "### Question 13"
   ]
  },
  {
   "cell_type": "code",
   "execution_count": null,
   "id": "5f7d5be2",
   "metadata": {},
   "outputs": [],
   "source": [
    "# Write your code or answer below:\n"
   ]
  },
  {
   "cell_type": "markdown",
   "id": "e541fc92",
   "metadata": {},
   "source": [
    "### Question 14"
   ]
  },
  {
   "cell_type": "code",
   "execution_count": null,
   "id": "5667730d",
   "metadata": {},
   "outputs": [],
   "source": [
    "# Write your code or answer below:\n"
   ]
  },
  {
   "cell_type": "markdown",
   "id": "f1f92534",
   "metadata": {},
   "source": [
    "### Question 15"
   ]
  },
  {
   "cell_type": "code",
   "execution_count": null,
   "id": "df2f7ad3",
   "metadata": {},
   "outputs": [],
   "source": [
    "# Write your code or answer below:\n"
   ]
  },
  {
   "cell_type": "markdown",
   "id": "7a84cb4c",
   "metadata": {},
   "source": [
    "### Question 16"
   ]
  },
  {
   "cell_type": "code",
   "execution_count": null,
   "id": "144f99e0",
   "metadata": {},
   "outputs": [],
   "source": [
    "# Write your code or answer below:\n"
   ]
  },
  {
   "cell_type": "markdown",
   "id": "b99c32c5",
   "metadata": {},
   "source": [
    "### Question 17"
   ]
  },
  {
   "cell_type": "code",
   "execution_count": null,
   "id": "72245f2f",
   "metadata": {},
   "outputs": [],
   "source": [
    "# Write your code or answer below:\n"
   ]
  },
  {
   "cell_type": "markdown",
   "id": "93e6be8e",
   "metadata": {},
   "source": [
    "### Question 18"
   ]
  },
  {
   "cell_type": "code",
   "execution_count": null,
   "id": "ce22dac0",
   "metadata": {},
   "outputs": [],
   "source": [
    "# Write your code or answer below:\n"
   ]
  },
  {
   "cell_type": "markdown",
   "id": "6b7fa5b2",
   "metadata": {},
   "source": [
    "### Question 19"
   ]
  },
  {
   "cell_type": "code",
   "execution_count": null,
   "id": "5737303e",
   "metadata": {},
   "outputs": [],
   "source": [
    "# Write your code or answer below:\n"
   ]
  },
  {
   "cell_type": "markdown",
   "id": "a15c74d3",
   "metadata": {},
   "source": [
    "### Question 20"
   ]
  },
  {
   "cell_type": "code",
   "execution_count": null,
   "id": "a698f491",
   "metadata": {},
   "outputs": [],
   "source": [
    "# Write your code or answer below:\n"
   ]
  },
  {
   "cell_type": "markdown",
   "id": "9f86aa13",
   "metadata": {},
   "source": [
    "## Inheritance\n",
    "---"
   ]
  },
  {
   "cell_type": "markdown",
   "id": "159ace2d",
   "metadata": {},
   "source": [
    "### Question 1"
   ]
  },
  {
   "cell_type": "code",
   "execution_count": null,
   "id": "a4e74844",
   "metadata": {},
   "outputs": [],
   "source": [
    "# Write your code or answer below:\n"
   ]
  },
  {
   "cell_type": "markdown",
   "id": "67100cd8",
   "metadata": {},
   "source": [
    "### Question 2"
   ]
  },
  {
   "cell_type": "code",
   "execution_count": null,
   "id": "acdd4f9a",
   "metadata": {},
   "outputs": [],
   "source": [
    "# Write your code or answer below:\n"
   ]
  },
  {
   "cell_type": "markdown",
   "id": "a2a6a85f",
   "metadata": {},
   "source": [
    "### Question 3"
   ]
  },
  {
   "cell_type": "code",
   "execution_count": null,
   "id": "8e548a28",
   "metadata": {},
   "outputs": [],
   "source": [
    "# Write your code or answer below:\n"
   ]
  },
  {
   "cell_type": "markdown",
   "id": "ec3eb0fd",
   "metadata": {},
   "source": [
    "### Question 4"
   ]
  },
  {
   "cell_type": "code",
   "execution_count": null,
   "id": "257346dd",
   "metadata": {},
   "outputs": [],
   "source": [
    "# Write your code or answer below:\n"
   ]
  },
  {
   "cell_type": "markdown",
   "id": "ef099358",
   "metadata": {},
   "source": [
    "### Question 5"
   ]
  },
  {
   "cell_type": "code",
   "execution_count": null,
   "id": "bdd716b3",
   "metadata": {},
   "outputs": [],
   "source": [
    "# Write your code or answer below:\n"
   ]
  },
  {
   "cell_type": "markdown",
   "id": "367b8401",
   "metadata": {},
   "source": [
    "### Question 6"
   ]
  },
  {
   "cell_type": "code",
   "execution_count": null,
   "id": "4c7c79d1",
   "metadata": {},
   "outputs": [],
   "source": [
    "# Write your code or answer below:\n"
   ]
  },
  {
   "cell_type": "markdown",
   "id": "d853c612",
   "metadata": {},
   "source": [
    "### Question 7"
   ]
  },
  {
   "cell_type": "code",
   "execution_count": null,
   "id": "638289fc",
   "metadata": {},
   "outputs": [],
   "source": [
    "# Write your code or answer below:\n"
   ]
  },
  {
   "cell_type": "markdown",
   "id": "dd393ac8",
   "metadata": {},
   "source": [
    "### Question 8"
   ]
  },
  {
   "cell_type": "code",
   "execution_count": null,
   "id": "04a1da7f",
   "metadata": {},
   "outputs": [],
   "source": [
    "# Write your code or answer below:\n"
   ]
  },
  {
   "cell_type": "markdown",
   "id": "2dbabafc",
   "metadata": {},
   "source": [
    "### Question 9"
   ]
  },
  {
   "cell_type": "code",
   "execution_count": null,
   "id": "e298bf38",
   "metadata": {},
   "outputs": [],
   "source": [
    "# Write your code or answer below:\n"
   ]
  },
  {
   "cell_type": "markdown",
   "id": "52fc2ba7",
   "metadata": {},
   "source": [
    "### Question 10"
   ]
  },
  {
   "cell_type": "code",
   "execution_count": null,
   "id": "411def7a",
   "metadata": {},
   "outputs": [],
   "source": [
    "# Write your code or answer below:\n"
   ]
  },
  {
   "cell_type": "markdown",
   "id": "82c0946c",
   "metadata": {},
   "source": [
    "### Question 11"
   ]
  },
  {
   "cell_type": "code",
   "execution_count": null,
   "id": "758e8502",
   "metadata": {},
   "outputs": [],
   "source": [
    "# Write your code or answer below:\n"
   ]
  },
  {
   "cell_type": "markdown",
   "id": "3dbb7040",
   "metadata": {},
   "source": [
    "### Question 12"
   ]
  },
  {
   "cell_type": "code",
   "execution_count": null,
   "id": "100372dc",
   "metadata": {},
   "outputs": [],
   "source": [
    "# Write your code or answer below:\n"
   ]
  },
  {
   "cell_type": "markdown",
   "id": "31a96cc2",
   "metadata": {},
   "source": [
    "### Question 13"
   ]
  },
  {
   "cell_type": "code",
   "execution_count": null,
   "id": "533a2644",
   "metadata": {},
   "outputs": [],
   "source": [
    "# Write your code or answer below:\n"
   ]
  },
  {
   "cell_type": "markdown",
   "id": "237d13ac",
   "metadata": {},
   "source": [
    "### Question 14"
   ]
  },
  {
   "cell_type": "code",
   "execution_count": null,
   "id": "b9350a24",
   "metadata": {},
   "outputs": [],
   "source": [
    "# Write your code or answer below:\n"
   ]
  },
  {
   "cell_type": "markdown",
   "id": "4049442e",
   "metadata": {},
   "source": [
    "### Question 15"
   ]
  },
  {
   "cell_type": "code",
   "execution_count": null,
   "id": "67077c00",
   "metadata": {},
   "outputs": [],
   "source": [
    "# Write your code or answer below:\n"
   ]
  },
  {
   "cell_type": "markdown",
   "id": "a679ac77",
   "metadata": {},
   "source": [
    "### Question 16"
   ]
  },
  {
   "cell_type": "code",
   "execution_count": null,
   "id": "8facf9af",
   "metadata": {},
   "outputs": [],
   "source": [
    "# Write your code or answer below:\n"
   ]
  },
  {
   "cell_type": "markdown",
   "id": "9a65abd4",
   "metadata": {},
   "source": [
    "### Question 17"
   ]
  },
  {
   "cell_type": "code",
   "execution_count": null,
   "id": "de815f3f",
   "metadata": {},
   "outputs": [],
   "source": [
    "# Write your code or answer below:\n"
   ]
  },
  {
   "cell_type": "markdown",
   "id": "35607bc7",
   "metadata": {},
   "source": [
    "### Question 18"
   ]
  },
  {
   "cell_type": "code",
   "execution_count": null,
   "id": "c057d875",
   "metadata": {},
   "outputs": [],
   "source": [
    "# Write your code or answer below:\n"
   ]
  },
  {
   "cell_type": "markdown",
   "id": "90e2cd72",
   "metadata": {},
   "source": [
    "### Question 19"
   ]
  },
  {
   "cell_type": "code",
   "execution_count": null,
   "id": "6077c72f",
   "metadata": {},
   "outputs": [],
   "source": [
    "# Write your code or answer below:\n"
   ]
  },
  {
   "cell_type": "markdown",
   "id": "452e9e0e",
   "metadata": {},
   "source": [
    "### Question 20"
   ]
  },
  {
   "cell_type": "code",
   "execution_count": null,
   "id": "92d156af",
   "metadata": {},
   "outputs": [],
   "source": [
    "# Write your code or answer below:\n"
   ]
  },
  {
   "cell_type": "markdown",
   "id": "4dc7ffb9",
   "metadata": {},
   "source": [
    "## Encapsulation\n",
    "---"
   ]
  },
  {
   "cell_type": "markdown",
   "id": "15189b07",
   "metadata": {},
   "source": [
    "### Question 1"
   ]
  },
  {
   "cell_type": "code",
   "execution_count": null,
   "id": "845cb364",
   "metadata": {},
   "outputs": [],
   "source": [
    "# Write your code or answer below:\n"
   ]
  },
  {
   "cell_type": "markdown",
   "id": "8efbc6a2",
   "metadata": {},
   "source": [
    "### Question 2"
   ]
  },
  {
   "cell_type": "code",
   "execution_count": null,
   "id": "0394c509",
   "metadata": {},
   "outputs": [],
   "source": [
    "# Write your code or answer below:\n"
   ]
  },
  {
   "cell_type": "markdown",
   "id": "2b83a22c",
   "metadata": {},
   "source": [
    "### Question 3"
   ]
  },
  {
   "cell_type": "code",
   "execution_count": null,
   "id": "d2104dbd",
   "metadata": {},
   "outputs": [],
   "source": [
    "# Write your code or answer below:\n"
   ]
  },
  {
   "cell_type": "markdown",
   "id": "c308a9e6",
   "metadata": {},
   "source": [
    "### Question 4"
   ]
  },
  {
   "cell_type": "code",
   "execution_count": null,
   "id": "883c846d",
   "metadata": {},
   "outputs": [],
   "source": [
    "# Write your code or answer below:\n"
   ]
  },
  {
   "cell_type": "markdown",
   "id": "d66553a7",
   "metadata": {},
   "source": [
    "### Question 5"
   ]
  },
  {
   "cell_type": "code",
   "execution_count": null,
   "id": "7b6b0a35",
   "metadata": {},
   "outputs": [],
   "source": [
    "# Write your code or answer below:\n"
   ]
  },
  {
   "cell_type": "markdown",
   "id": "da085ef5",
   "metadata": {},
   "source": [
    "### Question 6"
   ]
  },
  {
   "cell_type": "code",
   "execution_count": null,
   "id": "9d399b11",
   "metadata": {},
   "outputs": [],
   "source": [
    "# Write your code or answer below:\n"
   ]
  },
  {
   "cell_type": "markdown",
   "id": "4a758a8f",
   "metadata": {},
   "source": [
    "### Question 7"
   ]
  },
  {
   "cell_type": "code",
   "execution_count": null,
   "id": "90ae2820",
   "metadata": {},
   "outputs": [],
   "source": [
    "# Write your code or answer below:\n"
   ]
  },
  {
   "cell_type": "markdown",
   "id": "238cb72e",
   "metadata": {},
   "source": [
    "### Question 8"
   ]
  },
  {
   "cell_type": "code",
   "execution_count": null,
   "id": "aec60a77",
   "metadata": {},
   "outputs": [],
   "source": [
    "# Write your code or answer below:\n"
   ]
  },
  {
   "cell_type": "markdown",
   "id": "00dcd814",
   "metadata": {},
   "source": [
    "### Question 9"
   ]
  },
  {
   "cell_type": "code",
   "execution_count": null,
   "id": "dfe68cac",
   "metadata": {},
   "outputs": [],
   "source": [
    "# Write your code or answer below:\n"
   ]
  },
  {
   "cell_type": "markdown",
   "id": "2f383bdd",
   "metadata": {},
   "source": [
    "### Question 10"
   ]
  },
  {
   "cell_type": "code",
   "execution_count": null,
   "id": "18ce56b7",
   "metadata": {},
   "outputs": [],
   "source": [
    "# Write your code or answer below:\n"
   ]
  },
  {
   "cell_type": "markdown",
   "id": "74585e2b",
   "metadata": {},
   "source": [
    "### Question 11"
   ]
  },
  {
   "cell_type": "code",
   "execution_count": null,
   "id": "19fb5212",
   "metadata": {},
   "outputs": [],
   "source": [
    "# Write your code or answer below:\n"
   ]
  },
  {
   "cell_type": "markdown",
   "id": "5c4b7877",
   "metadata": {},
   "source": [
    "### Question 12"
   ]
  },
  {
   "cell_type": "code",
   "execution_count": null,
   "id": "8a0258fb",
   "metadata": {},
   "outputs": [],
   "source": [
    "# Write your code or answer below:\n"
   ]
  },
  {
   "cell_type": "markdown",
   "id": "e22b4dd8",
   "metadata": {},
   "source": [
    "### Question 13"
   ]
  },
  {
   "cell_type": "code",
   "execution_count": null,
   "id": "405257f3",
   "metadata": {},
   "outputs": [],
   "source": [
    "# Write your code or answer below:\n"
   ]
  },
  {
   "cell_type": "markdown",
   "id": "40a403d3",
   "metadata": {},
   "source": [
    "### Question 14"
   ]
  },
  {
   "cell_type": "code",
   "execution_count": null,
   "id": "5c2fdecc",
   "metadata": {},
   "outputs": [],
   "source": [
    "# Write your code or answer below:\n"
   ]
  },
  {
   "cell_type": "markdown",
   "id": "518794e7",
   "metadata": {},
   "source": [
    "### Question 15"
   ]
  },
  {
   "cell_type": "code",
   "execution_count": null,
   "id": "0d29d3f5",
   "metadata": {},
   "outputs": [],
   "source": [
    "# Write your code or answer below:\n"
   ]
  },
  {
   "cell_type": "markdown",
   "id": "04b85842",
   "metadata": {},
   "source": [
    "### Question 16"
   ]
  },
  {
   "cell_type": "code",
   "execution_count": null,
   "id": "30750ee7",
   "metadata": {},
   "outputs": [],
   "source": [
    "# Write your code or answer below:\n"
   ]
  },
  {
   "cell_type": "markdown",
   "id": "f59d10c5",
   "metadata": {},
   "source": [
    "### Question 17"
   ]
  },
  {
   "cell_type": "code",
   "execution_count": null,
   "id": "414b50c5",
   "metadata": {},
   "outputs": [],
   "source": [
    "# Write your code or answer below:\n"
   ]
  },
  {
   "cell_type": "markdown",
   "id": "f3513def",
   "metadata": {},
   "source": [
    "### Question 18"
   ]
  },
  {
   "cell_type": "code",
   "execution_count": null,
   "id": "6db7f934",
   "metadata": {},
   "outputs": [],
   "source": [
    "# Write your code or answer below:\n"
   ]
  },
  {
   "cell_type": "markdown",
   "id": "ecf8dc20",
   "metadata": {},
   "source": [
    "### Question 19"
   ]
  },
  {
   "cell_type": "code",
   "execution_count": null,
   "id": "e40301eb",
   "metadata": {},
   "outputs": [],
   "source": [
    "# Write your code or answer below:\n"
   ]
  },
  {
   "cell_type": "markdown",
   "id": "5c5f8147",
   "metadata": {},
   "source": [
    "### Question 20"
   ]
  },
  {
   "cell_type": "code",
   "execution_count": null,
   "id": "d1e1892e",
   "metadata": {},
   "outputs": [],
   "source": [
    "# Write your code or answer below:\n"
   ]
  },
  {
   "cell_type": "markdown",
   "id": "745ea2ed",
   "metadata": {},
   "source": [
    "## Polymorphism\n",
    "---"
   ]
  },
  {
   "cell_type": "markdown",
   "id": "30500969",
   "metadata": {},
   "source": [
    "### Question 1"
   ]
  },
  {
   "cell_type": "code",
   "execution_count": null,
   "id": "e5a37753",
   "metadata": {},
   "outputs": [],
   "source": [
    "# Write your code or answer below:\n"
   ]
  },
  {
   "cell_type": "markdown",
   "id": "beca3008",
   "metadata": {},
   "source": [
    "### Question 2"
   ]
  },
  {
   "cell_type": "code",
   "execution_count": null,
   "id": "9fbc2faa",
   "metadata": {},
   "outputs": [],
   "source": [
    "# Write your code or answer below:\n"
   ]
  },
  {
   "cell_type": "markdown",
   "id": "5e33b6a3",
   "metadata": {},
   "source": [
    "### Question 3"
   ]
  },
  {
   "cell_type": "code",
   "execution_count": null,
   "id": "dfcf57bf",
   "metadata": {},
   "outputs": [],
   "source": [
    "# Write your code or answer below:\n"
   ]
  },
  {
   "cell_type": "markdown",
   "id": "e56b69e4",
   "metadata": {},
   "source": [
    "### Question 4"
   ]
  },
  {
   "cell_type": "code",
   "execution_count": null,
   "id": "cceae93f",
   "metadata": {},
   "outputs": [],
   "source": [
    "# Write your code or answer below:\n"
   ]
  },
  {
   "cell_type": "markdown",
   "id": "e18a378f",
   "metadata": {},
   "source": [
    "### Question 5"
   ]
  },
  {
   "cell_type": "code",
   "execution_count": null,
   "id": "126b2499",
   "metadata": {},
   "outputs": [],
   "source": [
    "# Write your code or answer below:\n"
   ]
  },
  {
   "cell_type": "markdown",
   "id": "15bbc3a4",
   "metadata": {},
   "source": [
    "### Question 6"
   ]
  },
  {
   "cell_type": "code",
   "execution_count": null,
   "id": "27091070",
   "metadata": {},
   "outputs": [],
   "source": [
    "# Write your code or answer below:\n"
   ]
  },
  {
   "cell_type": "markdown",
   "id": "d4b26d6a",
   "metadata": {},
   "source": [
    "### Question 7"
   ]
  },
  {
   "cell_type": "code",
   "execution_count": null,
   "id": "92a8d5a0",
   "metadata": {},
   "outputs": [],
   "source": [
    "# Write your code or answer below:\n"
   ]
  },
  {
   "cell_type": "markdown",
   "id": "92ccf027",
   "metadata": {},
   "source": [
    "### Question 8"
   ]
  },
  {
   "cell_type": "code",
   "execution_count": null,
   "id": "84e7f1d9",
   "metadata": {},
   "outputs": [],
   "source": [
    "# Write your code or answer below:\n"
   ]
  },
  {
   "cell_type": "markdown",
   "id": "fe86fde3",
   "metadata": {},
   "source": [
    "### Question 9"
   ]
  },
  {
   "cell_type": "code",
   "execution_count": null,
   "id": "145fbfa3",
   "metadata": {},
   "outputs": [],
   "source": [
    "# Write your code or answer below:\n"
   ]
  },
  {
   "cell_type": "markdown",
   "id": "31db52ec",
   "metadata": {},
   "source": [
    "### Question 10"
   ]
  },
  {
   "cell_type": "code",
   "execution_count": null,
   "id": "15782950",
   "metadata": {},
   "outputs": [],
   "source": [
    "# Write your code or answer below:\n"
   ]
  },
  {
   "cell_type": "markdown",
   "id": "6a0d9e05",
   "metadata": {},
   "source": [
    "### Question 11"
   ]
  },
  {
   "cell_type": "code",
   "execution_count": null,
   "id": "11864aca",
   "metadata": {},
   "outputs": [],
   "source": [
    "# Write your code or answer below:\n"
   ]
  },
  {
   "cell_type": "markdown",
   "id": "5bc407a1",
   "metadata": {},
   "source": [
    "### Question 12"
   ]
  },
  {
   "cell_type": "code",
   "execution_count": null,
   "id": "e60f481d",
   "metadata": {},
   "outputs": [],
   "source": [
    "# Write your code or answer below:\n"
   ]
  },
  {
   "cell_type": "markdown",
   "id": "992cf0eb",
   "metadata": {},
   "source": [
    "### Question 13"
   ]
  },
  {
   "cell_type": "code",
   "execution_count": null,
   "id": "8e90c12f",
   "metadata": {},
   "outputs": [],
   "source": [
    "# Write your code or answer below:\n"
   ]
  },
  {
   "cell_type": "markdown",
   "id": "f0eacd60",
   "metadata": {},
   "source": [
    "### Question 14"
   ]
  },
  {
   "cell_type": "code",
   "execution_count": null,
   "id": "51c8fbb5",
   "metadata": {},
   "outputs": [],
   "source": [
    "# Write your code or answer below:\n"
   ]
  },
  {
   "cell_type": "markdown",
   "id": "599ce394",
   "metadata": {},
   "source": [
    "### Question 15"
   ]
  },
  {
   "cell_type": "code",
   "execution_count": null,
   "id": "be6117a5",
   "metadata": {},
   "outputs": [],
   "source": [
    "# Write your code or answer below:\n"
   ]
  },
  {
   "cell_type": "markdown",
   "id": "0f7b565c",
   "metadata": {},
   "source": [
    "### Question 16"
   ]
  },
  {
   "cell_type": "code",
   "execution_count": null,
   "id": "34d594dd",
   "metadata": {},
   "outputs": [],
   "source": [
    "# Write your code or answer below:\n"
   ]
  },
  {
   "cell_type": "markdown",
   "id": "a8fa5ab5",
   "metadata": {},
   "source": [
    "### Question 17"
   ]
  },
  {
   "cell_type": "code",
   "execution_count": null,
   "id": "1c811be7",
   "metadata": {},
   "outputs": [],
   "source": [
    "# Write your code or answer below:\n"
   ]
  },
  {
   "cell_type": "markdown",
   "id": "65ac8c19",
   "metadata": {},
   "source": [
    "### Question 18"
   ]
  },
  {
   "cell_type": "code",
   "execution_count": null,
   "id": "14c3bd3f",
   "metadata": {},
   "outputs": [],
   "source": [
    "# Write your code or answer below:\n"
   ]
  },
  {
   "cell_type": "markdown",
   "id": "81ac07ed",
   "metadata": {},
   "source": [
    "### Question 19"
   ]
  },
  {
   "cell_type": "code",
   "execution_count": null,
   "id": "7b2e78ad",
   "metadata": {},
   "outputs": [],
   "source": [
    "# Write your code or answer below:\n"
   ]
  },
  {
   "cell_type": "markdown",
   "id": "003fb1aa",
   "metadata": {},
   "source": [
    "### Question 20"
   ]
  },
  {
   "cell_type": "code",
   "execution_count": null,
   "id": "8f91647b",
   "metadata": {},
   "outputs": [],
   "source": [
    "# Write your code or answer below:\n"
   ]
  },
  {
   "cell_type": "markdown",
   "id": "9187ded2",
   "metadata": {},
   "source": [
    "## Abstraction\n",
    "---"
   ]
  },
  {
   "cell_type": "markdown",
   "id": "650a15e8",
   "metadata": {},
   "source": [
    "### Question 1"
   ]
  },
  {
   "cell_type": "code",
   "execution_count": null,
   "id": "a17a00d7",
   "metadata": {},
   "outputs": [],
   "source": [
    "# Write your code or answer below:\n"
   ]
  },
  {
   "cell_type": "markdown",
   "id": "654ebbd8",
   "metadata": {},
   "source": [
    "### Question 2"
   ]
  },
  {
   "cell_type": "code",
   "execution_count": null,
   "id": "6262160b",
   "metadata": {},
   "outputs": [],
   "source": [
    "# Write your code or answer below:\n"
   ]
  },
  {
   "cell_type": "markdown",
   "id": "7fa24bcb",
   "metadata": {},
   "source": [
    "### Question 3"
   ]
  },
  {
   "cell_type": "code",
   "execution_count": null,
   "id": "5bfca1e2",
   "metadata": {},
   "outputs": [],
   "source": [
    "# Write your code or answer below:\n"
   ]
  },
  {
   "cell_type": "markdown",
   "id": "75db158b",
   "metadata": {},
   "source": [
    "### Question 4"
   ]
  },
  {
   "cell_type": "code",
   "execution_count": null,
   "id": "41b092dd",
   "metadata": {},
   "outputs": [],
   "source": [
    "# Write your code or answer below:\n"
   ]
  },
  {
   "cell_type": "markdown",
   "id": "4355ddd9",
   "metadata": {},
   "source": [
    "### Question 5"
   ]
  },
  {
   "cell_type": "code",
   "execution_count": null,
   "id": "aea70b8d",
   "metadata": {},
   "outputs": [],
   "source": [
    "# Write your code or answer below:\n"
   ]
  },
  {
   "cell_type": "markdown",
   "id": "bde1954d",
   "metadata": {},
   "source": [
    "### Question 6"
   ]
  },
  {
   "cell_type": "code",
   "execution_count": null,
   "id": "7ec3043e",
   "metadata": {},
   "outputs": [],
   "source": [
    "# Write your code or answer below:\n"
   ]
  },
  {
   "cell_type": "markdown",
   "id": "88b5cda5",
   "metadata": {},
   "source": [
    "### Question 7"
   ]
  },
  {
   "cell_type": "code",
   "execution_count": null,
   "id": "a141becd",
   "metadata": {},
   "outputs": [],
   "source": [
    "# Write your code or answer below:\n"
   ]
  },
  {
   "cell_type": "markdown",
   "id": "a72ca991",
   "metadata": {},
   "source": [
    "### Question 8"
   ]
  },
  {
   "cell_type": "code",
   "execution_count": null,
   "id": "22ddc797",
   "metadata": {},
   "outputs": [],
   "source": [
    "# Write your code or answer below:\n"
   ]
  },
  {
   "cell_type": "markdown",
   "id": "98cc92e6",
   "metadata": {},
   "source": [
    "### Question 9"
   ]
  },
  {
   "cell_type": "code",
   "execution_count": null,
   "id": "59f8c825",
   "metadata": {},
   "outputs": [],
   "source": [
    "# Write your code or answer below:\n"
   ]
  },
  {
   "cell_type": "markdown",
   "id": "429a2a8f",
   "metadata": {},
   "source": [
    "### Question 10"
   ]
  },
  {
   "cell_type": "code",
   "execution_count": null,
   "id": "880a7c1b",
   "metadata": {},
   "outputs": [],
   "source": [
    "# Write your code or answer below:\n"
   ]
  },
  {
   "cell_type": "markdown",
   "id": "c8c5b9ec",
   "metadata": {},
   "source": [
    "### Question 11"
   ]
  },
  {
   "cell_type": "code",
   "execution_count": null,
   "id": "6d004f07",
   "metadata": {},
   "outputs": [],
   "source": [
    "# Write your code or answer below:\n"
   ]
  },
  {
   "cell_type": "markdown",
   "id": "3acd071b",
   "metadata": {},
   "source": [
    "### Question 12"
   ]
  },
  {
   "cell_type": "code",
   "execution_count": null,
   "id": "b8227b86",
   "metadata": {},
   "outputs": [],
   "source": [
    "# Write your code or answer below:\n"
   ]
  },
  {
   "cell_type": "markdown",
   "id": "1294d379",
   "metadata": {},
   "source": [
    "### Question 13"
   ]
  },
  {
   "cell_type": "code",
   "execution_count": null,
   "id": "950d0a26",
   "metadata": {},
   "outputs": [],
   "source": [
    "# Write your code or answer below:\n"
   ]
  },
  {
   "cell_type": "markdown",
   "id": "3ac9e280",
   "metadata": {},
   "source": [
    "### Question 14"
   ]
  },
  {
   "cell_type": "code",
   "execution_count": null,
   "id": "68d76870",
   "metadata": {},
   "outputs": [],
   "source": [
    "# Write your code or answer below:\n"
   ]
  },
  {
   "cell_type": "markdown",
   "id": "7894da92",
   "metadata": {},
   "source": [
    "### Question 15"
   ]
  },
  {
   "cell_type": "code",
   "execution_count": null,
   "id": "bb0d8ff0",
   "metadata": {},
   "outputs": [],
   "source": [
    "# Write your code or answer below:\n"
   ]
  },
  {
   "cell_type": "markdown",
   "id": "b4aba80d",
   "metadata": {},
   "source": [
    "### Question 16"
   ]
  },
  {
   "cell_type": "code",
   "execution_count": null,
   "id": "388a02c4",
   "metadata": {},
   "outputs": [],
   "source": [
    "# Write your code or answer below:\n"
   ]
  },
  {
   "cell_type": "markdown",
   "id": "f52dcf23",
   "metadata": {},
   "source": [
    "### Question 17"
   ]
  },
  {
   "cell_type": "code",
   "execution_count": null,
   "id": "47dc344e",
   "metadata": {},
   "outputs": [],
   "source": [
    "# Write your code or answer below:\n"
   ]
  },
  {
   "cell_type": "markdown",
   "id": "78d7089a",
   "metadata": {},
   "source": [
    "### Question 18"
   ]
  },
  {
   "cell_type": "code",
   "execution_count": null,
   "id": "8b80d0c1",
   "metadata": {},
   "outputs": [],
   "source": [
    "# Write your code or answer below:\n"
   ]
  },
  {
   "cell_type": "markdown",
   "id": "9ddab7a8",
   "metadata": {},
   "source": [
    "### Question 19"
   ]
  },
  {
   "cell_type": "code",
   "execution_count": null,
   "id": "1f365850",
   "metadata": {},
   "outputs": [],
   "source": [
    "# Write your code or answer below:\n"
   ]
  },
  {
   "cell_type": "markdown",
   "id": "c0cdbba7",
   "metadata": {},
   "source": [
    "### Question 20"
   ]
  },
  {
   "cell_type": "code",
   "execution_count": null,
   "id": "500bad6d",
   "metadata": {},
   "outputs": [],
   "source": [
    "# Write your code or answer below:\n"
   ]
  },
  {
   "cell_type": "markdown",
   "id": "39744297",
   "metadata": {},
   "source": [
    "## Composition\n",
    "---"
   ]
  },
  {
   "cell_type": "markdown",
   "id": "1cb202c7",
   "metadata": {},
   "source": [
    "### Question 1"
   ]
  },
  {
   "cell_type": "code",
   "execution_count": null,
   "id": "1b67ae30",
   "metadata": {},
   "outputs": [],
   "source": [
    "# Write your code or answer below:\n"
   ]
  },
  {
   "cell_type": "markdown",
   "id": "ec679cd9",
   "metadata": {},
   "source": [
    "### Question 2"
   ]
  },
  {
   "cell_type": "code",
   "execution_count": null,
   "id": "3dd35d85",
   "metadata": {},
   "outputs": [],
   "source": [
    "# Write your code or answer below:\n"
   ]
  },
  {
   "cell_type": "markdown",
   "id": "21824c9e",
   "metadata": {},
   "source": [
    "### Question 3"
   ]
  },
  {
   "cell_type": "code",
   "execution_count": null,
   "id": "491c5119",
   "metadata": {},
   "outputs": [],
   "source": [
    "# Write your code or answer below:\n"
   ]
  },
  {
   "cell_type": "markdown",
   "id": "cd6f8c95",
   "metadata": {},
   "source": [
    "### Question 4"
   ]
  },
  {
   "cell_type": "code",
   "execution_count": null,
   "id": "661269fa",
   "metadata": {},
   "outputs": [],
   "source": [
    "# Write your code or answer below:\n"
   ]
  },
  {
   "cell_type": "markdown",
   "id": "98e0eaa2",
   "metadata": {},
   "source": [
    "### Question 5"
   ]
  },
  {
   "cell_type": "code",
   "execution_count": null,
   "id": "ea1a7576",
   "metadata": {},
   "outputs": [],
   "source": [
    "# Write your code or answer below:\n"
   ]
  },
  {
   "cell_type": "markdown",
   "id": "8402d803",
   "metadata": {},
   "source": [
    "### Question 6"
   ]
  },
  {
   "cell_type": "code",
   "execution_count": null,
   "id": "06f837b7",
   "metadata": {},
   "outputs": [],
   "source": [
    "# Write your code or answer below:\n"
   ]
  },
  {
   "cell_type": "markdown",
   "id": "b6c407bb",
   "metadata": {},
   "source": [
    "### Question 7"
   ]
  },
  {
   "cell_type": "code",
   "execution_count": null,
   "id": "82401b90",
   "metadata": {},
   "outputs": [],
   "source": [
    "# Write your code or answer below:\n"
   ]
  },
  {
   "cell_type": "markdown",
   "id": "a0e8d302",
   "metadata": {},
   "source": [
    "### Question 8"
   ]
  },
  {
   "cell_type": "code",
   "execution_count": null,
   "id": "a24d614c",
   "metadata": {},
   "outputs": [],
   "source": [
    "# Write your code or answer below:\n"
   ]
  },
  {
   "cell_type": "markdown",
   "id": "8121593a",
   "metadata": {},
   "source": [
    "### Question 9"
   ]
  },
  {
   "cell_type": "code",
   "execution_count": null,
   "id": "00fa488f",
   "metadata": {},
   "outputs": [],
   "source": [
    "# Write your code or answer below:\n"
   ]
  },
  {
   "cell_type": "markdown",
   "id": "a9a515be",
   "metadata": {},
   "source": [
    "### Question 10"
   ]
  },
  {
   "cell_type": "code",
   "execution_count": null,
   "id": "7b254628",
   "metadata": {},
   "outputs": [],
   "source": [
    "# Write your code or answer below:\n"
   ]
  },
  {
   "cell_type": "markdown",
   "id": "e4e0a71c",
   "metadata": {},
   "source": [
    "### Question 11"
   ]
  },
  {
   "cell_type": "code",
   "execution_count": null,
   "id": "b569b74e",
   "metadata": {},
   "outputs": [],
   "source": [
    "# Write your code or answer below:\n"
   ]
  },
  {
   "cell_type": "markdown",
   "id": "60e83b0e",
   "metadata": {},
   "source": [
    "### Question 12"
   ]
  },
  {
   "cell_type": "code",
   "execution_count": null,
   "id": "17b26acf",
   "metadata": {},
   "outputs": [],
   "source": [
    "# Write your code or answer below:\n"
   ]
  },
  {
   "cell_type": "markdown",
   "id": "794a2489",
   "metadata": {},
   "source": [
    "### Question 13"
   ]
  },
  {
   "cell_type": "code",
   "execution_count": null,
   "id": "af00482f",
   "metadata": {},
   "outputs": [],
   "source": [
    "# Write your code or answer below:\n"
   ]
  },
  {
   "cell_type": "markdown",
   "id": "8c2b0bbc",
   "metadata": {},
   "source": [
    "### Question 14"
   ]
  },
  {
   "cell_type": "code",
   "execution_count": null,
   "id": "22383b66",
   "metadata": {},
   "outputs": [],
   "source": [
    "# Write your code or answer below:\n"
   ]
  },
  {
   "cell_type": "markdown",
   "id": "45de469c",
   "metadata": {},
   "source": [
    "### Question 15"
   ]
  },
  {
   "cell_type": "code",
   "execution_count": null,
   "id": "a8ccdb25",
   "metadata": {},
   "outputs": [],
   "source": [
    "# Write your code or answer below:\n"
   ]
  },
  {
   "cell_type": "markdown",
   "id": "64c20700",
   "metadata": {},
   "source": [
    "### Question 16"
   ]
  },
  {
   "cell_type": "code",
   "execution_count": null,
   "id": "a1ea8445",
   "metadata": {},
   "outputs": [],
   "source": [
    "# Write your code or answer below:\n"
   ]
  },
  {
   "cell_type": "markdown",
   "id": "3c8fa0a7",
   "metadata": {},
   "source": [
    "### Question 17"
   ]
  },
  {
   "cell_type": "code",
   "execution_count": null,
   "id": "07b4c8a5",
   "metadata": {},
   "outputs": [],
   "source": [
    "# Write your code or answer below:\n"
   ]
  },
  {
   "cell_type": "markdown",
   "id": "e67ee29e",
   "metadata": {},
   "source": [
    "### Question 18"
   ]
  },
  {
   "cell_type": "code",
   "execution_count": null,
   "id": "3125e2e3",
   "metadata": {},
   "outputs": [],
   "source": [
    "# Write your code or answer below:\n"
   ]
  },
  {
   "cell_type": "markdown",
   "id": "1347c8a5",
   "metadata": {},
   "source": [
    "### Question 19"
   ]
  },
  {
   "cell_type": "code",
   "execution_count": null,
   "id": "27b8b2b4",
   "metadata": {},
   "outputs": [],
   "source": [
    "# Write your code or answer below:\n"
   ]
  },
  {
   "cell_type": "markdown",
   "id": "7cc78863",
   "metadata": {},
   "source": [
    "### Question 20"
   ]
  },
  {
   "cell_type": "code",
   "execution_count": null,
   "id": "a1847d41",
   "metadata": {},
   "outputs": [],
   "source": [
    "# Write your code or answer below:\n"
   ]
  }
 ],
 "metadata": {},
 "nbformat": 4,
 "nbformat_minor": 5
}
