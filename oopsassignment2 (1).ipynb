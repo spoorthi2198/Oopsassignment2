{
 "cells": [
  {
   "cell_type": "code",
   "execution_count": 1,
   "id": "fa8e40ac-80f7-4b97-bb27-c6a139e1840c",
   "metadata": {},
   "outputs": [],
   "source": [
    "# OOPS Assignment"
   ]
  },
  {
   "cell_type": "code",
   "execution_count": 9,
   "id": "f8199020-3670-4a72-ae9e-19a382bed35b",
   "metadata": {},
   "outputs": [],
   "source": [
    "# Constructor"
   ]
  },
  {
   "cell_type": "code",
   "execution_count": null,
   "id": "615f1634-e4e8-4d69-b365-d43849639724",
   "metadata": {},
   "outputs": [],
   "source": []
  },
  {
   "cell_type": "code",
   "execution_count": 5,
   "id": "0267f9bb-60ba-437f-83d0-bbbadf0d4bcb",
   "metadata": {},
   "outputs": [],
   "source": [
    "# 1. What is a constructor in Python? Explain its purpose and usage."
   ]
  },
  {
   "cell_type": "code",
   "execution_count": 7,
   "id": "1f4e6acf-47ce-44a7-83eb-fdadf92d53af",
   "metadata": {},
   "outputs": [],
   "source": [
    "# A constructor in Python is a special method `__init__()` used to initialize objects when a class is instantiated."
   ]
  },
  {
   "cell_type": "code",
   "execution_count": null,
   "id": "343999d0-b0a5-4144-8f42-71cdc4f06018",
   "metadata": {},
   "outputs": [],
   "source": []
  },
  {
   "cell_type": "code",
   "execution_count": 12,
   "id": "09163f09-c9f0-4b0a-8d0d-26d103076eee",
   "metadata": {},
   "outputs": [],
   "source": [
    "# 2. Differentiate between a parameterless constructor and a parameterized constructor in Python."
   ]
  },
  {
   "cell_type": "code",
   "execution_count": 14,
   "id": "c3a2afd5-e9f6-489d-803d-232b8c894e26",
   "metadata": {},
   "outputs": [],
   "source": [
    "# A parameterless constructor takes no arguments, while a parameterized constructor accepts arguments to initialize attributes."
   ]
  },
  {
   "cell_type": "code",
   "execution_count": null,
   "id": "14191c55-f458-41aa-a38f-ed830339c019",
   "metadata": {},
   "outputs": [],
   "source": []
  },
  {
   "cell_type": "code",
   "execution_count": 21,
   "id": "c5fe4671-dc49-4dfd-b354-89e92cad38bb",
   "metadata": {},
   "outputs": [],
   "source": [
    "# 3. How do you define a constructor in a Python class? Provide an example."
   ]
  },
  {
   "cell_type": "code",
   "execution_count": 23,
   "id": "d186da86-8625-4759-b736-fa7536d89206",
   "metadata": {},
   "outputs": [
    {
     "name": "stdout",
     "output_type": "stream",
     "text": [
      "Constructor Called\n"
     ]
    }
   ],
   "source": [
    "class Sample:\n",
    "    def __init__(self):\n",
    "        print(\"Constructor Called\")\n",
    "obj = Sample()"
   ]
  },
  {
   "cell_type": "code",
   "execution_count": null,
   "id": "5f4a59fc-6a32-410c-86e2-3b7b8e4fbbb9",
   "metadata": {},
   "outputs": [],
   "source": []
  },
  {
   "cell_type": "code",
   "execution_count": 19,
   "id": "863068c0-d8d1-44b2-9a46-4fe37830cec0",
   "metadata": {},
   "outputs": [],
   "source": [
    "# 4. Explain the `__init__` method in Python and its role in constructors."
   ]
  },
  {
   "cell_type": "code",
   "execution_count": null,
   "id": "9b13b96c-a3c0-494b-8979-1698785c6bb0",
   "metadata": {},
   "outputs": [],
   "source": [
    "# `__init__` is the constructor method that gets called when an object is created to initialize attributes."
   ]
  },
  {
   "cell_type": "code",
   "execution_count": null,
   "id": "b1ad2726-adc1-4590-b1b8-344e11f813b0",
   "metadata": {},
   "outputs": [],
   "source": []
  },
  {
   "cell_type": "code",
   "execution_count": 25,
   "id": "a3c744c6-37f9-4f83-81d8-cb7ecdebd8ec",
   "metadata": {},
   "outputs": [],
   "source": [
    "# 5. In a class named `Person`, create a constructor that initializes the `name` and `age` attributes. Provide an example of creating an object of this class."
   ]
  },
  {
   "cell_type": "code",
   "execution_count": 27,
   "id": "9ee3ae52-1055-409a-abe5-ba80716daeb3",
   "metadata": {},
   "outputs": [
    {
     "name": "stdout",
     "output_type": "stream",
     "text": [
      "Alice 30\n"
     ]
    }
   ],
   "source": [
    "class Person:\n",
    "    def __init__(self, name, age):\n",
    "        self.name = name\n",
    "        self.age = age\n",
    "\n",
    "p = Person(\"Alice\", 30)\n",
    "print(p.name, p.age)"
   ]
  },
  {
   "cell_type": "code",
   "execution_count": null,
   "id": "b37bb4e2-18b9-4b9e-b6cd-49ce4287d690",
   "metadata": {},
   "outputs": [],
   "source": []
  },
  {
   "cell_type": "code",
   "execution_count": 30,
   "id": "3b29ce8d-2ad7-4cb7-8541-e12320d4241a",
   "metadata": {},
   "outputs": [],
   "source": [
    "# 6. How can you call a constructor explicitly in Python? Give an example."
   ]
  },
  {
   "cell_type": "code",
   "execution_count": 32,
   "id": "9db74198-070e-4a69-a543-0800b883e07e",
   "metadata": {},
   "outputs": [
    {
     "name": "stdout",
     "output_type": "stream",
     "text": [
      "Constructor\n"
     ]
    }
   ],
   "source": [
    "class Example:\n",
    "    def __init__(self):\n",
    "        print(\"Constructor\")\n",
    "\n",
    "obj = Example()"
   ]
  },
  {
   "cell_type": "code",
   "execution_count": null,
   "id": "5ffe1f1e-cf0b-4069-817d-36344f9b3c0d",
   "metadata": {},
   "outputs": [],
   "source": []
  },
  {
   "cell_type": "code",
   "execution_count": 35,
   "id": "0551e33f-6d34-4c71-b036-b2d6d5aa2879",
   "metadata": {},
   "outputs": [],
   "source": [
    "# 7. What is the significance of the `self` parameter in Python constructors? Explain with an example."
   ]
  },
  {
   "cell_type": "code",
   "execution_count": 37,
   "id": "b578aef2-30a0-4762-93bf-a08a3857a009",
   "metadata": {},
   "outputs": [],
   "source": [
    "# The `self` parameter represents the instance of the class and is used to access attributes and methods."
   ]
  },
  {
   "cell_type": "code",
   "execution_count": null,
   "id": "d010bb35-6146-4d88-95d8-e5b740b00997",
   "metadata": {},
   "outputs": [],
   "source": []
  },
  {
   "cell_type": "code",
   "execution_count": null,
   "id": "cd590a3a-9db6-4d4e-88fd-e939149578db",
   "metadata": {},
   "outputs": [],
   "source": [
    "# 8. Discuss the concept of default constructors in Python. When are they used?"
   ]
  },
  {
   "cell_type": "code",
   "execution_count": 41,
   "id": "500bfaf8-d1b2-41b0-b954-a8e858a44c72",
   "metadata": {},
   "outputs": [],
   "source": [
    "# If no constructor is defined, Python uses a default constructor with no arguments."
   ]
  },
  {
   "cell_type": "code",
   "execution_count": null,
   "id": "cb0fa4b7-daf3-44e0-b8fe-db1fe65d5384",
   "metadata": {},
   "outputs": [],
   "source": []
  },
  {
   "cell_type": "code",
   "execution_count": 44,
   "id": "1f03ba15-31d1-41a0-b976-355d38f79bad",
   "metadata": {},
   "outputs": [],
   "source": [
    "# 9. Create a Python class called `Rectangle` with a constructor that initializes the `width` and `height` attributes. Provide a method to calculate the area of the rectangle."
   ]
  },
  {
   "cell_type": "code",
   "execution_count": 46,
   "id": "716c5faf-7169-4978-b0b9-24a197f6e276",
   "metadata": {},
   "outputs": [
    {
     "name": "stdout",
     "output_type": "stream",
     "text": [
      "20\n"
     ]
    }
   ],
   "source": [
    "class Rectangle:\n",
    "    def __init__(self, width, height):\n",
    "        self.width = width\n",
    "        self.height = height\n",
    "\n",
    "    def area(self):\n",
    "        return self.width * self.height\n",
    "\n",
    "r = Rectangle(4, 5)\n",
    "print(r.area())"
   ]
  },
  {
   "cell_type": "code",
   "execution_count": null,
   "id": "e32f0d7d-dce0-41d3-8c79-8d1afbce63a9",
   "metadata": {},
   "outputs": [],
   "source": []
  },
  {
   "cell_type": "code",
   "execution_count": 49,
   "id": "152c6b2d-05e8-4cc3-9eb1-6fca143c4188",
   "metadata": {},
   "outputs": [],
   "source": [
    "# 10. How can you have multiple constructors in a Python class? Explain with an example."
   ]
  },
  {
   "cell_type": "code",
   "execution_count": 51,
   "id": "568d5026-6aab-4780-b3da-3e2a6dcb9fe0",
   "metadata": {},
   "outputs": [
    {
     "name": "stdout",
     "output_type": "stream",
     "text": [
      "Default constructor\n",
      "Parameterized constructor\n"
     ]
    }
   ],
   "source": [
    "class Overload:\n",
    "    def __init__(self, x=None):\n",
    "        if x is None:\n",
    "            print(\"Default constructor\")\n",
    "        else:\n",
    "            print(\"Parameterized constructor\")\n",
    "obj1 = Overload()\n",
    "obj2 = Overload(5)"
   ]
  },
  {
   "cell_type": "code",
   "execution_count": null,
   "id": "36a46714-5b1b-478a-af2e-5cfef45e6f78",
   "metadata": {},
   "outputs": [],
   "source": []
  },
  {
   "cell_type": "code",
   "execution_count": 54,
   "id": "e776d748-c2a9-439b-891a-45e044d2cfec",
   "metadata": {},
   "outputs": [],
   "source": [
    "# 11. What is method overloading, and how is it related to constructors in Python?"
   ]
  },
  {
   "cell_type": "code",
   "execution_count": 56,
   "id": "ec6c3ef9-8315-4bee-94b9-15d21793c23c",
   "metadata": {},
   "outputs": [],
   "source": [
    "# Method overloading is not directly supported. Python uses default values or variable-length arguments."
   ]
  },
  {
   "cell_type": "code",
   "execution_count": null,
   "id": "0d692b85-fae4-47d9-81a0-8e6a7de5e66a",
   "metadata": {},
   "outputs": [],
   "source": []
  },
  {
   "cell_type": "code",
   "execution_count": 59,
   "id": "11e8b73a-a6ac-46f0-97ac-c722c6f9c56e",
   "metadata": {},
   "outputs": [],
   "source": [
    "# 12. Explain the use of the `super()` function in Python constructors. Provide an example."
   ]
  },
  {
   "cell_type": "code",
   "execution_count": 61,
   "id": "35066eea-bbc5-44f5-aae3-1cecbe9c3f68",
   "metadata": {},
   "outputs": [
    {
     "name": "stdout",
     "output_type": "stream",
     "text": [
      "Parent constructor\n",
      "Child constructor\n"
     ]
    }
   ],
   "source": [
    "class Parent:\n",
    "    def __init__(self):\n",
    "        print(\"Parent constructor\")\n",
    "\n",
    "class Child(Parent):\n",
    "    def __init__(self):\n",
    "        super().__init__()\n",
    "        print(\"Child constructor\")\n",
    "c = Child()"
   ]
  },
  {
   "cell_type": "code",
   "execution_count": null,
   "id": "cdafb203-2b65-42b5-b015-f308dc61c076",
   "metadata": {},
   "outputs": [],
   "source": []
  },
  {
   "cell_type": "code",
   "execution_count": 64,
   "id": "7a88228e-a6f8-4750-9069-0459919892ca",
   "metadata": {},
   "outputs": [],
   "source": [
    "# 13. Create a class called `Book` with a constructor that initializes the `title`, `author`, and `published_year` attributes. Provide a method to display book details."
   ]
  },
  {
   "cell_type": "code",
   "execution_count": 66,
   "id": "24274da7-80d1-4337-a965-a44043a087ad",
   "metadata": {},
   "outputs": [
    {
     "name": "stdout",
     "output_type": "stream",
     "text": [
      "1984 Orwell 1949\n"
     ]
    }
   ],
   "source": [
    "class Book:\n",
    "    def __init__(self, title, author, year):\n",
    "        self.title = title\n",
    "        self.author = author\n",
    "        self.year = year\n",
    "\n",
    "    def display(self):\n",
    "        print(self.title, self.author, self.year)\n",
    "b = Book(\"1984\", \"Orwell\", 1949)\n",
    "b.display()"
   ]
  },
  {
   "cell_type": "code",
   "execution_count": null,
   "id": "5ff29da8-9551-455a-b619-424707ba5425",
   "metadata": {},
   "outputs": [],
   "source": []
  },
  {
   "cell_type": "code",
   "execution_count": 69,
   "id": "972d7757-a2a1-46d7-8fea-d38508d891fd",
   "metadata": {},
   "outputs": [],
   "source": [
    "# 14. Discuss the differences between constructors and regular methods in Python classes."
   ]
  },
  {
   "cell_type": "code",
   "execution_count": 71,
   "id": "48fe6f41-252a-4d00-9464-bf86c2cb410c",
   "metadata": {},
   "outputs": [],
   "source": [
    "# Constructors initialize objects, while regular methods define behavior after initialization."
   ]
  },
  {
   "cell_type": "code",
   "execution_count": null,
   "id": "6ed25103-8523-44d4-812b-6d7e19f4c708",
   "metadata": {},
   "outputs": [],
   "source": []
  },
  {
   "cell_type": "code",
   "execution_count": 74,
   "id": "af6d951b-ed44-4788-a171-66a1fab6af96",
   "metadata": {},
   "outputs": [],
   "source": [
    "# 15. Explain the role of the `self` parameter in instance variable initialization within a constructor."
   ]
  },
  {
   "cell_type": "code",
   "execution_count": 76,
   "id": "fac9996d-fa2d-4e49-a7ff-c2b2ff1e38f5",
   "metadata": {},
   "outputs": [],
   "source": [
    "# The `self` parameter ensures each object instance maintains its own data."
   ]
  },
  {
   "cell_type": "code",
   "execution_count": null,
   "id": "bf463242-2f15-4f94-9148-a8f8056bfe9f",
   "metadata": {},
   "outputs": [],
   "source": []
  },
  {
   "cell_type": "code",
   "execution_count": 79,
   "id": "e9631267-c645-4fa6-a458-1381f853a318",
   "metadata": {},
   "outputs": [],
   "source": [
    "# 16. How do you prevent a class from having multiple instances by using constructors in Python? Provide an example."
   ]
  },
  {
   "cell_type": "code",
   "execution_count": 81,
   "id": "b8e1a979-9d36-4187-b701-5a40e733adef",
   "metadata": {},
   "outputs": [
    {
     "name": "stdout",
     "output_type": "stream",
     "text": [
      "True\n"
     ]
    }
   ],
   "source": [
    "class Singleton:\n",
    "    _instance = None\n",
    "    def __new__(cls):\n",
    "        if cls._instance is None:\n",
    "            cls._instance = super(Singleton, cls).__new__(cls)\n",
    "        return cls._instance\n",
    "obj1 = Singleton()\n",
    "obj2 = Singleton()\n",
    "print(obj1 is obj2)"
   ]
  },
  {
   "cell_type": "code",
   "execution_count": null,
   "id": "b1f1f146-712b-49a3-8707-47b587e52624",
   "metadata": {},
   "outputs": [],
   "source": []
  },
  {
   "cell_type": "code",
   "execution_count": 84,
   "id": "a6e5ee40-49f1-44db-92bc-8a48ae118bd6",
   "metadata": {},
   "outputs": [],
   "source": [
    "# 17. Create a Python class called `Student` with a constructor that takes a list of subjects as a parameter and initializes the `subjects` attribute."
   ]
  },
  {
   "cell_type": "code",
   "execution_count": 86,
   "id": "4d4210cc-2708-4883-9016-f3c7b911ee56",
   "metadata": {},
   "outputs": [
    {
     "name": "stdout",
     "output_type": "stream",
     "text": [
      "['Math', 'Science']\n"
     ]
    }
   ],
   "source": [
    "class Student:\n",
    "    def __init__(self, subjects):\n",
    "        self.subjects = subjects\n",
    "\n",
    "s = Student([\"Math\", \"Science\"])\n",
    "print(s.subjects)"
   ]
  },
  {
   "cell_type": "code",
   "execution_count": null,
   "id": "4b4a356c-41f5-4006-8d46-244d24fa1800",
   "metadata": {},
   "outputs": [],
   "source": []
  },
  {
   "cell_type": "code",
   "execution_count": 89,
   "id": "bd2aebe6-d837-4a04-941e-bda8f166e368",
   "metadata": {},
   "outputs": [],
   "source": [
    "# 18. What is the purpose of the `__del__` method in Python classes, and how does it relate to constructors?"
   ]
  },
  {
   "cell_type": "code",
   "execution_count": 91,
   "id": "89124f6a-ed95-421e-a089-4bbcc8a8efa4",
   "metadata": {},
   "outputs": [],
   "source": [
    "# The `__del__` method is called when an object is destroyed. It acts as a destructor."
   ]
  },
  {
   "cell_type": "code",
   "execution_count": null,
   "id": "fbe6be2a-732e-4b90-b2c5-d6d59e0b29dd",
   "metadata": {},
   "outputs": [],
   "source": []
  },
  {
   "cell_type": "code",
   "execution_count": 94,
   "id": "9c6e7b83-c6aa-4632-9d0f-fa1a8f21eb87",
   "metadata": {},
   "outputs": [],
   "source": [
    "# 19. Explain the use of constructor chaining in Python. Provide a practical example."
   ]
  },
  {
   "cell_type": "code",
   "execution_count": 98,
   "id": "e6e911c6-86ee-4cef-a192-19e2d9e9984a",
   "metadata": {},
   "outputs": [
    {
     "name": "stdout",
     "output_type": "stream",
     "text": [
      "A constructor\n",
      "B constructor\n"
     ]
    }
   ],
   "source": [
    "class A:\n",
    "    def __init__(self):\n",
    "        print(\"A constructor\")\n",
    "\n",
    "class B(A):\n",
    "    def __init__(self):\n",
    "        super().__init__()\n",
    "        print(\"B constructor\")\n",
    "\n",
    "b = B()\n"
   ]
  },
  {
   "cell_type": "code",
   "execution_count": null,
   "id": "64146e6b-a60c-41d7-952b-59f5697787fd",
   "metadata": {},
   "outputs": [],
   "source": []
  },
  {
   "cell_type": "code",
   "execution_count": 101,
   "id": "54d7c296-5e10-48e3-84cd-6ac011800f14",
   "metadata": {},
   "outputs": [],
   "source": [
    "# 20. Create a Python class called `Car` with a default constructor that initializes the `make` and `model` attributes. Provide a method to display car information."
   ]
  },
  {
   "cell_type": "code",
   "execution_count": 103,
   "id": "75b21082-9bfe-4978-bcf5-68f13f4c5997",
   "metadata": {},
   "outputs": [
    {
     "name": "stdout",
     "output_type": "stream",
     "text": [
      "Toyota Corolla\n"
     ]
    }
   ],
   "source": [
    "class Car:\n",
    "    def __init__(self):\n",
    "        self.make = \"Toyota\"\n",
    "        self.model = \"Corolla\"\n",
    "    def display(self):\n",
    "        print(self.make, self.model)\n",
    "c = Car()\n",
    "c.display()"
   ]
  },
  {
   "cell_type": "code",
   "execution_count": null,
   "id": "90445cc1-d7d4-4e5b-a5ed-5093cb4af07d",
   "metadata": {},
   "outputs": [],
   "source": []
  },
  {
   "cell_type": "code",
   "execution_count": 108,
   "id": "2dd58e97-d0d3-4c7d-a6e1-55ddf2a08dff",
   "metadata": {},
   "outputs": [],
   "source": [
    "## Inheritance"
   ]
  },
  {
   "cell_type": "code",
   "execution_count": null,
   "id": "cbea4e30-bddc-4e12-8a27-81998eae11d5",
   "metadata": {},
   "outputs": [],
   "source": [
    "# 1. What is inheritance in Python? Explain its significance in object-oriented programming."
   ]
  },
  {
   "cell_type": "code",
   "execution_count": 110,
   "id": "f61fd6ee-a6ca-4a0f-a0f4-0a69bc1f020b",
   "metadata": {},
   "outputs": [],
   "source": [
    "# Inheritance allows a class (child) to acquire the properties and methods of another class (parent). It supports code reuse, modularity, and relationship modeling."
   ]
  },
  {
   "cell_type": "code",
   "execution_count": null,
   "id": "d38dca7a-6352-4159-bcba-ee099ad3da31",
   "metadata": {},
   "outputs": [],
   "source": []
  },
  {
   "cell_type": "code",
   "execution_count": null,
   "id": "f2b9170e-e46e-4ea4-9bbd-592d9b187dc6",
   "metadata": {},
   "outputs": [],
   "source": [
    "# 2. Differentiate between single inheritance and multiple inheritance in Python. Provide examples for each."
   ]
  },
  {
   "cell_type": "code",
   "execution_count": null,
   "id": "c8c3f3e1-a970-41eb-b7cc-c824b0f3fc81",
   "metadata": {},
   "outputs": [],
   "source": [
    "# Single inheritance: A class inherits from one parent class.\n",
    "# Multiple inheritance: A class inherits from more than one parent class."
   ]
  },
  {
   "cell_type": "code",
   "execution_count": null,
   "id": "83cb0e19-5b24-4bff-baa7-0945b06bd7f1",
   "metadata": {},
   "outputs": [],
   "source": []
  },
  {
   "cell_type": "code",
   "execution_count": null,
   "id": "2cad3b82-8279-4edd-bafb-3b14cd1582f9",
   "metadata": {},
   "outputs": [],
   "source": [
    "# 3. Create a Python class called `Vehicle` with attributes `color` and `speed`. Then, create a child class called"
   ]
  },
  {
   "cell_type": "code",
   "execution_count": 112,
   "id": "4013010d-72e2-4f62-ba8c-fc0cdfb464d6",
   "metadata": {},
   "outputs": [
    {
     "name": "stdout",
     "output_type": "stream",
     "text": [
      "Red 100 Toyota\n"
     ]
    }
   ],
   "source": [
    "class Vehicle:\n",
    "    def __init__(self, color, speed):\n",
    "        self.color = color\n",
    "        self.speed = speed\n",
    "\n",
    "class Car(Vehicle):\n",
    "    def __init__(self, color, speed, brand):\n",
    "        super().__init__(color, speed)\n",
    "        self.brand = brand\n",
    "\n",
    "c = Car(\"Red\", 100, \"Toyota\")\n",
    "print(c.color, c.speed, c.brand)"
   ]
  },
  {
   "cell_type": "code",
   "execution_count": null,
   "id": "9452a0ae-a941-4ca5-8201-6f99721b2a84",
   "metadata": {},
   "outputs": [],
   "source": []
  },
  {
   "cell_type": "code",
   "execution_count": null,
   "id": "8a665737-f49d-4007-ba63-daf3bfc2a810",
   "metadata": {},
   "outputs": [],
   "source": [
    "# 4. Explain the concept of method overriding in inheritance. Provide a practical example."
   ]
  },
  {
   "cell_type": "code",
   "execution_count": null,
   "id": "3876f666-4f5c-4e35-ab01-e48d38339cff",
   "metadata": {},
   "outputs": [],
   "source": [
    "# A child class can override a method from its parent class to provide specific behavior."
   ]
  },
  {
   "cell_type": "code",
   "execution_count": 114,
   "id": "10c21d25-8ec0-4e19-9617-ea5fc9f321c0",
   "metadata": {},
   "outputs": [
    {
     "name": "stdout",
     "output_type": "stream",
     "text": [
      "Hello from Child\n"
     ]
    }
   ],
   "source": [
    "class Parent:\n",
    "    def greet(self):\n",
    "        print(\"Hello from Parent\")\n",
    "\n",
    "class Child(Parent):\n",
    "    def greet(self):\n",
    "        print(\"Hello from Child\")\n",
    "\n",
    "c = Child()\n",
    "c.greet()\n"
   ]
  },
  {
   "cell_type": "code",
   "execution_count": null,
   "id": "620c1d66-369b-4e6e-b98a-5e925b35cae0",
   "metadata": {},
   "outputs": [],
   "source": []
  },
  {
   "cell_type": "code",
   "execution_count": null,
   "id": "83a0ce31-e31e-4ad4-acf5-3fed31f73ad6",
   "metadata": {},
   "outputs": [],
   "source": [
    "# 5. How can you access the methods and attributes of a parent class from a child class in Python? Give an example."
   ]
  },
  {
   "cell_type": "code",
   "execution_count": 116,
   "id": "9304ba80-06f0-45e8-8741-6c7a5baee36b",
   "metadata": {},
   "outputs": [
    {
     "name": "stdout",
     "output_type": "stream",
     "text": [
      "Parent\n",
      "Child\n"
     ]
    }
   ],
   "source": [
    "class A:\n",
    "    def show(self):\n",
    "        print(\"Parent\")\n",
    "\n",
    "class B(A):\n",
    "    def show(self):\n",
    "        super().show()  # or A.show(self)\n",
    "        print(\"Child\")\n",
    "\n",
    "b = B()\n",
    "b.show()\n"
   ]
  },
  {
   "cell_type": "code",
   "execution_count": null,
   "id": "16b09bc2-9739-433f-87d8-af5c254b9a75",
   "metadata": {},
   "outputs": [],
   "source": []
  },
  {
   "cell_type": "code",
   "execution_count": null,
   "id": "c664fdaf-2307-43c1-8760-51784dcb2355",
   "metadata": {},
   "outputs": [],
   "source": [
    "# 6. Discuss the use of the `super()` function in Python inheritance. When and why is it used? Provide an example."
   ]
  },
  {
   "cell_type": "code",
   "execution_count": 118,
   "id": "4f47ee88-b6bc-47ac-b58f-66bbdd101b6b",
   "metadata": {},
   "outputs": [],
   "source": [
    "# super() is used to call parent class methods/constructors, especially in multiple inheritance."
   ]
  },
  {
   "cell_type": "code",
   "execution_count": 120,
   "id": "6cfeb088-2a59-4ca5-b314-309c4a4e937b",
   "metadata": {},
   "outputs": [
    {
     "name": "stdout",
     "output_type": "stream",
     "text": [
      "A constructor\n",
      "B constructor\n"
     ]
    }
   ],
   "source": [
    "class A:\n",
    "    def __init__(self):\n",
    "        print(\"A constructor\")\n",
    "\n",
    "class B(A):\n",
    "    def __init__(self):\n",
    "        super().__init__()\n",
    "        print(\"B constructor\")\n",
    "\n",
    "obj = B()\n"
   ]
  },
  {
   "cell_type": "code",
   "execution_count": null,
   "id": "10810e7a-4397-4343-830d-dc1b63945b15",
   "metadata": {},
   "outputs": [],
   "source": [
    "# 7. Create a Python class called `Animal` with a method `speak()`. Then, create child classes `Dog` and `Cat` that inherit from `Animal` and override the `speak()` method. Provide an example of using these classes."
   ]
  },
  {
   "cell_type": "code",
   "execution_count": 122,
   "id": "c406430c-0808-4d49-bf1e-077f92e41703",
   "metadata": {},
   "outputs": [
    {
     "name": "stdout",
     "output_type": "stream",
     "text": [
      "Bark\n",
      "Meow\n"
     ]
    }
   ],
   "source": [
    "class Animal:\n",
    "    def speak(self):\n",
    "        print(\"Animal speaks\")\n",
    "\n",
    "class Dog(Animal):\n",
    "    def speak(self):\n",
    "        print(\"Bark\")\n",
    "\n",
    "class Cat(Animal):\n",
    "    def speak(self):\n",
    "        print(\"Meow\")\n",
    "\n",
    "animals = [Dog(), Cat()]\n",
    "for a in animals:\n",
    "    a.speak()\n"
   ]
  },
  {
   "cell_type": "code",
   "execution_count": null,
   "id": "319092a0-7e62-478c-bb07-698f9a518981",
   "metadata": {},
   "outputs": [],
   "source": []
  },
  {
   "cell_type": "code",
   "execution_count": null,
   "id": "a58534e3-4457-4475-b530-4b66bac5e01a",
   "metadata": {},
   "outputs": [],
   "source": [
    "# 8. Explain the role of the `isinstance()` function in Python and how it relates to inheritance."
   ]
  },
  {
   "cell_type": "code",
   "execution_count": 124,
   "id": "ab6e7dec-0269-4179-a1d5-98d507b9ecbf",
   "metadata": {},
   "outputs": [],
   "source": [
    "# isinstance(obj, Class) checks if an object is an instance of a class or its subclass."
   ]
  },
  {
   "cell_type": "code",
   "execution_count": null,
   "id": "58e03902-9c0d-4138-b8ce-602ffa155377",
   "metadata": {},
   "outputs": [],
   "source": []
  },
  {
   "cell_type": "code",
   "execution_count": null,
   "id": "95d6ee04-7548-4fda-8e69-87828b6ec0e1",
   "metadata": {},
   "outputs": [],
   "source": [
    "# 9. What is the purpose of the `issubclass()` function in Python? Provide an example."
   ]
  },
  {
   "cell_type": "code",
   "execution_count": 126,
   "id": "d96354be-d542-4a43-9014-0b965125aa15",
   "metadata": {},
   "outputs": [],
   "source": [
    "# issubclass(Sub, Super) returns True if Sub is derived from Super."
   ]
  },
  {
   "cell_type": "code",
   "execution_count": 128,
   "id": "e62f73d4-0151-4c99-9314-9cfe2ad0826e",
   "metadata": {},
   "outputs": [
    {
     "name": "stdout",
     "output_type": "stream",
     "text": [
      "True\n",
      "False\n"
     ]
    }
   ],
   "source": [
    "class Animal:\n",
    "    pass\n",
    "\n",
    "class Dog(Animal):\n",
    "    pass\n",
    "\n",
    "print(issubclass(Dog, Animal))  # True\n",
    "print(issubclass(Animal, Dog))  # False\n"
   ]
  },
  {
   "cell_type": "code",
   "execution_count": null,
   "id": "0a7ec9a0-ebe5-40aa-952e-cf785d5f1d6d",
   "metadata": {},
   "outputs": [],
   "source": []
  },
  {
   "cell_type": "code",
   "execution_count": 130,
   "id": "2695996a-4c8f-4aa8-8373-b99205f06c14",
   "metadata": {},
   "outputs": [],
   "source": [
    "# 10. Discuss the concept of constructor inheritance in Python. How are constructors inherited in child classes?"
   ]
  },
  {
   "cell_type": "code",
   "execution_count": 132,
   "id": "1d4b6cf9-3f47-4d2e-9d89-ca934348672b",
   "metadata": {},
   "outputs": [],
   "source": [
    "# Child classes must call the parent constructor using super().__init__() if the parent has one."
   ]
  },
  {
   "cell_type": "code",
   "execution_count": null,
   "id": "5e3efaae-9cbe-41bb-9cad-3094f912a000",
   "metadata": {},
   "outputs": [],
   "source": []
  },
  {
   "cell_type": "code",
   "execution_count": 134,
   "id": "9b5003f8-4748-4b1f-ba5d-f22866256e90",
   "metadata": {},
   "outputs": [],
   "source": [
    "# 11. Create a Python class called `Shape` with a method `area()` that calculates the area of a shape. Then, create child classes `Circle` and `Rectangle` that inherit from `Shape` and implement the `area()` method accordingly. Provide an example."
   ]
  },
  {
   "cell_type": "code",
   "execution_count": 161,
   "id": "8aab79e7-9d94-417a-b4e5-04ad3598b1a7",
   "metadata": {},
   "outputs": [
    {
     "name": "stdout",
     "output_type": "stream",
     "text": [
      "78.5\n",
      "24\n"
     ]
    }
   ],
   "source": [
    "class Shape:\n",
    "    def area(self):\n",
    "        pass\n",
    "\n",
    "class Circle(Shape):\n",
    "    def area(self):\n",
    "        return 3.14 * 5 * 5\n",
    "\n",
    "class Rectangle(Shape):\n",
    "    def area(self):\n",
    "        return 4 * 6\n",
    "\n",
    "shapes = [Circle(), Rectangle()]\n",
    "for s in shapes:\n",
    "    print(s.area())\n"
   ]
  },
  {
   "cell_type": "code",
   "execution_count": null,
   "id": "d65fcaac-c532-4ed7-93a3-a889652401bc",
   "metadata": {},
   "outputs": [],
   "source": []
  },
  {
   "cell_type": "code",
   "execution_count": 137,
   "id": "977a1d0b-5f39-4a91-9cab-a1be7d4221a5",
   "metadata": {},
   "outputs": [],
   "source": [
    "# 12. Explain the use of abstract base classes (ABCs) in Python and how they relate to inheritance. Provide an example using the `abc` module."
   ]
  },
  {
   "cell_type": "code",
   "execution_count": 163,
   "id": "c368c019-dd72-4673-9daf-7992e1fe9b87",
   "metadata": {},
   "outputs": [
    {
     "name": "stdout",
     "output_type": "stream",
     "text": [
      "Bark\n"
     ]
    }
   ],
   "source": [
    "from abc import ABC, abstractmethod\n",
    "\n",
    "class Animal(ABC):\n",
    "    @abstractmethod\n",
    "    def make_sound(self):\n",
    "        pass\n",
    "\n",
    "class Dog(Animal):\n",
    "    def make_sound(self):\n",
    "        print(\"Bark\")\n",
    "\n",
    "d = Dog()\n",
    "d.make_sound()\n"
   ]
  },
  {
   "cell_type": "code",
   "execution_count": null,
   "id": "2f0d1a50-0e0b-4287-8c9d-2a570f8d300a",
   "metadata": {},
   "outputs": [],
   "source": []
  },
  {
   "cell_type": "code",
   "execution_count": 140,
   "id": "26e08665-093e-47fa-8a93-f9268aae8a93",
   "metadata": {},
   "outputs": [],
   "source": [
    "# 13. How can you prevent a child class from modifying certain attributes or methods inherited from a parent class in Python?"
   ]
  },
  {
   "cell_type": "code",
   "execution_count": 165,
   "id": "ef515199-f1f4-4c46-8441-c721ca5b8655",
   "metadata": {},
   "outputs": [
    {
     "name": "stdout",
     "output_type": "stream",
     "text": [
      "Overridden\n"
     ]
    }
   ],
   "source": [
    "class Base:\n",
    "    def _protected_method(self):\n",
    "        print(\"Don't override\")\n",
    "\n",
    "class Derived(Base):\n",
    "    def _protected_method(self):  # Can override, but discouraged\n",
    "        print(\"Overridden\")\n",
    "\n",
    "d = Derived()\n",
    "d._protected_method()\n"
   ]
  },
  {
   "cell_type": "code",
   "execution_count": null,
   "id": "440a41a8-b548-47ba-abbc-c34c2533fa3c",
   "metadata": {},
   "outputs": [],
   "source": []
  },
  {
   "cell_type": "code",
   "execution_count": 143,
   "id": "630d28af-5c92-48ce-86f9-533bcb5574a7",
   "metadata": {},
   "outputs": [],
   "source": [
    "# 14. Create a Python class called `Employee` with attributes `name` and `salary`. Then, create a child class `Manager` that inherits from `Employee` and adds an attribute `department`. Provide an example."
   ]
  },
  {
   "cell_type": "code",
   "execution_count": 167,
   "id": "edc25112-5e82-4972-8002-bbbe14d71459",
   "metadata": {},
   "outputs": [
    {
     "name": "stdout",
     "output_type": "stream",
     "text": [
      "John 50000 HR\n"
     ]
    }
   ],
   "source": [
    "class Employee:\n",
    "    def __init__(self, name, salary):\n",
    "        self.name = name\n",
    "        self.salary = salary\n",
    "\n",
    "class Manager(Employee):\n",
    "    def __init__(self, name, salary, dept):\n",
    "        super().__init__(name, salary)\n",
    "        self.department = dept\n",
    "\n",
    "m = Manager(\"John\", 50000, \"HR\")\n",
    "print(m.name, m.salary, m.department)\n"
   ]
  },
  {
   "cell_type": "code",
   "execution_count": null,
   "id": "da2fe422-b92f-478d-bda3-477302dc0cbb",
   "metadata": {},
   "outputs": [],
   "source": []
  },
  {
   "cell_type": "code",
   "execution_count": 146,
   "id": "953634f2-65e3-44f1-8886-f1324db3f133",
   "metadata": {},
   "outputs": [],
   "source": [
    "# 15. Discuss the concept of method overloading in Python inheritance. How does it differ from method overriding?"
   ]
  },
  {
   "cell_type": "code",
   "execution_count": null,
   "id": "e5fcc550-6324-458f-a7d2-9ee3c6cab302",
   "metadata": {},
   "outputs": [],
   "source": [
    "# Overriding: Redefining parent’s method in child.\n",
    "# Overloading: Multiple methods with same name but different signatures (not directly supported in Python)."
   ]
  },
  {
   "cell_type": "code",
   "execution_count": null,
   "id": "f1c7693a-c83d-4805-b8c7-84186958e567",
   "metadata": {},
   "outputs": [],
   "source": []
  },
  {
   "cell_type": "code",
   "execution_count": 149,
   "id": "8f704fff-9f4c-4df1-a76a-4c787112618a",
   "metadata": {},
   "outputs": [],
   "source": [
    "# 16. Explain the purpose of the `__init__()` method in Python inheritance and how it is utilized in child classes."
   ]
  },
  {
   "cell_type": "code",
   "execution_count": 169,
   "id": "97d6e54d-53e8-4408-b910-6734a1bc046a",
   "metadata": {},
   "outputs": [
    {
     "name": "stdout",
     "output_type": "stream",
     "text": [
      "5 10\n"
     ]
    }
   ],
   "source": [
    "class A:\n",
    "    def __init__(self, val):\n",
    "        self.val = val\n",
    "\n",
    "class B(A):\n",
    "    def __init__(self, val, extra):\n",
    "        super().__init__(val)\n",
    "        self.extra = extra\n",
    "\n",
    "b = B(5, 10)\n",
    "print(b.val, b.extra)\n"
   ]
  },
  {
   "cell_type": "code",
   "execution_count": null,
   "id": "90e75608-1367-4cec-98ec-2850c21996b0",
   "metadata": {},
   "outputs": [],
   "source": []
  },
  {
   "cell_type": "code",
   "execution_count": 152,
   "id": "4055b360-c5bc-42b1-ac1b-1b8709d480da",
   "metadata": {},
   "outputs": [],
   "source": [
    "# 17. Create a Python class called `Bird` with a method `fly()`. Then, create child classes `Eagle` and `Sparrow` that inherit from `Bird` and implement the `fly()` method differently. Provide an example of using these classes."
   ]
  },
  {
   "cell_type": "code",
   "execution_count": 171,
   "id": "f1b0205f-f60c-42bf-bcc3-e75b66feceab",
   "metadata": {},
   "outputs": [
    {
     "name": "stdout",
     "output_type": "stream",
     "text": [
      "Eagle soars high\n",
      "Sparrow flies low\n"
     ]
    }
   ],
   "source": [
    "class Bird:\n",
    "    def fly(self):\n",
    "        print(\"Bird is flying\")\n",
    "\n",
    "class Eagle(Bird):\n",
    "    def fly(self):\n",
    "        print(\"Eagle soars high\")\n",
    "\n",
    "class Sparrow(Bird):\n",
    "    def fly(self):\n",
    "        print(\"Sparrow flies low\")\n",
    "\n",
    "b1 = Eagle()\n",
    "b2 = Sparrow()\n",
    "b1.fly()\n",
    "b2.fly()\n"
   ]
  },
  {
   "cell_type": "code",
   "execution_count": null,
   "id": "620df8b7-dead-482c-94ce-5ded13467a3a",
   "metadata": {},
   "outputs": [],
   "source": []
  },
  {
   "cell_type": "code",
   "execution_count": 155,
   "id": "442ddaf4-d2bd-4841-b1d1-21ef90b9c6d2",
   "metadata": {},
   "outputs": [],
   "source": [
    "# 18. What is the \"diamond problem\" in multiple inheritance, and how does Python address it?"
   ]
  },
  {
   "cell_type": "code",
   "execution_count": null,
   "id": "6c06b749-6487-4641-a1cf-fb27f3a01763",
   "metadata": {},
   "outputs": [],
   "source": [
    "# Occurs when a class inherits from two classes that share a common ancestor. Python resolves this using Method Resolution Order (MRO)."
   ]
  },
  {
   "cell_type": "code",
   "execution_count": null,
   "id": "c6cd16b4-2a22-425c-a7de-c3ebd934ae52",
   "metadata": {},
   "outputs": [],
   "source": []
  },
  {
   "cell_type": "code",
   "execution_count": 158,
   "id": "8a616296-0633-4ec6-963f-0de02a3f4c78",
   "metadata": {},
   "outputs": [],
   "source": [
    "# 19. Discuss the concept of \"is-a\" and \"has-a\" relationships in inheritance, and provide examples of each."
   ]
  },
  {
   "cell_type": "code",
   "execution_count": null,
   "id": "88bd335c-0ac8-466d-9a33-3ac601d2f0a7",
   "metadata": {},
   "outputs": [],
   "source": [
    "# Is-a → Inheritance\n",
    "\n",
    "# Has-a → Composition"
   ]
  },
  {
   "cell_type": "code",
   "execution_count": 173,
   "id": "5a1e6f40-c308-49ca-b269-d6c901a97985",
   "metadata": {},
   "outputs": [],
   "source": [
    "class Engine:\n",
    "    pass\n",
    "\n",
    "class Car:  # Car has an Engine\n",
    "    def __init__(self):\n",
    "        self.engine = Engine()\n",
    "\n",
    "class Vehicle:  # Vehicle is a base class\n",
    "    pass\n",
    "\n",
    "class Truck(Vehicle):  # Truck is a Vehicle\n",
    "    pass\n"
   ]
  },
  {
   "cell_type": "code",
   "execution_count": null,
   "id": "2d69e99f-afe2-4ec3-844d-9830e4e28957",
   "metadata": {},
   "outputs": [],
   "source": []
  },
  {
   "cell_type": "code",
   "execution_count": 175,
   "id": "1736375e-56fe-4709-ae4c-2452a45693e7",
   "metadata": {},
   "outputs": [],
   "source": [
    "# 20. Create a Python class hierarchy for a university system. Start with a base class `Person` and create child classes `Student` and `Professor`, each with their own attributes and methods. Provide an example of using these classes in a university context."
   ]
  },
  {
   "cell_type": "code",
   "execution_count": 177,
   "id": "58d63be0-c115-4593-a95b-2c6dd6649795",
   "metadata": {},
   "outputs": [
    {
     "name": "stdout",
     "output_type": "stream",
     "text": [
      "Alice B.Tech\n",
      "Dr. Bob Physics\n"
     ]
    }
   ],
   "source": [
    "class Person:\n",
    "    def __init__(self, name):\n",
    "        self.name = name\n",
    "\n",
    "class Student(Person):\n",
    "    def __init__(self, name, course):\n",
    "        super().__init__(name)\n",
    "        self.course = course\n",
    "\n",
    "class Professor(Person):\n",
    "    def __init__(self, name, subject):\n",
    "        super().__init__(name)\n",
    "        self.subject = subject\n",
    "\n",
    "s = Student(\"Alice\", \"B.Tech\")\n",
    "p = Professor(\"Dr. Bob\", \"Physics\")\n",
    "print(s.name, s.course)\n",
    "print(p.name, p.subject)\n"
   ]
  },
  {
   "cell_type": "code",
   "execution_count": null,
   "id": "85251af8-a7ce-438a-b2ff-1c22a9a9ae4d",
   "metadata": {},
   "outputs": [],
   "source": []
  },
  {
   "cell_type": "code",
   "execution_count": 180,
   "id": "51e9e1f6-8198-49dd-a9c2-badf2870ac4d",
   "metadata": {},
   "outputs": [],
   "source": [
    "## Encapsulation"
   ]
  },
  {
   "cell_type": "code",
   "execution_count": 2,
   "id": "15d64121-bb6b-48ed-a502-f7f4ef48f072",
   "metadata": {},
   "outputs": [],
   "source": [
    "# 1. Explain the concept of encapsulation in Python. What is its role in object-oriented programming?"
   ]
  },
  {
   "cell_type": "code",
   "execution_count": null,
   "id": "ec6ec50e-c0da-403e-be9b-73c519320ca2",
   "metadata": {},
   "outputs": [],
   "source": [
    "# Encapsulation is the practice of hiding the internal state of an object and requiring all interaction to be performed through an object’s methods. It protects data and ensures controlled access."
   ]
  },
  {
   "cell_type": "code",
   "execution_count": null,
   "id": "63d73bfb-6357-48da-a419-845f0fdb824c",
   "metadata": {},
   "outputs": [],
   "source": []
  },
  {
   "cell_type": "code",
   "execution_count": 5,
   "id": "d942b568-0c9b-4fe6-8cf4-730e5f599f42",
   "metadata": {},
   "outputs": [],
   "source": [
    "# 2. Describe the key principles of encapsulation, including access control and data hiding."
   ]
  },
  {
   "cell_type": "code",
   "execution_count": null,
   "id": "c2c8216e-c2fc-4f89-93db-6777dbd8b356",
   "metadata": {},
   "outputs": [],
   "source": [
    "# Access Control: Determines how data can be accessed (public, protected, private).\n",
    "# Data Hiding: Prevents direct access to internal object data to ensure integrity."
   ]
  },
  {
   "cell_type": "code",
   "execution_count": null,
   "id": "d74f291c-0401-4d09-848a-85215b6d036d",
   "metadata": {},
   "outputs": [],
   "source": []
  },
  {
   "cell_type": "code",
   "execution_count": null,
   "id": "f0548844-66bc-4721-ba45-ab9b81bcb646",
   "metadata": {},
   "outputs": [],
   "source": [
    "# 3. How can you achieve encapsulation in Python classes? Provide an example."
   ]
  },
  {
   "cell_type": "code",
   "execution_count": 7,
   "id": "90e5b47d-9108-4497-8399-1f501cbddf43",
   "metadata": {},
   "outputs": [
    {
     "name": "stdout",
     "output_type": "stream",
     "text": [
      "Alice\n",
      "Bob\n"
     ]
    }
   ],
   "source": [
    "# Use private and protected members and provide getters and setters.\n",
    "class Person:\n",
    "    def __init__(self, name):\n",
    "        self.__name = name  # private\n",
    "\n",
    "    def get_name(self):\n",
    "        return self.__name\n",
    "\n",
    "    def set_name(self, name):\n",
    "        self.__name = name\n",
    "\n",
    "p = Person(\"Alice\")\n",
    "print(p.get_name())\n",
    "p.set_name(\"Bob\")\n",
    "print(p.get_name())\n"
   ]
  },
  {
   "cell_type": "code",
   "execution_count": null,
   "id": "1a38165f-e67a-4a55-8606-4204d2df74de",
   "metadata": {},
   "outputs": [],
   "source": []
  },
  {
   "cell_type": "code",
   "execution_count": null,
   "id": "0fbd983b-e00c-49ea-8838-7182fa6b169c",
   "metadata": {},
   "outputs": [],
   "source": [
    "# 4. Discuss the difference between public, private, and protected access modifiers in Python."
   ]
  },
  {
   "cell_type": "code",
   "execution_count": null,
   "id": "f7e0022d-39b5-431c-a003-8a08f7188045",
   "metadata": {},
   "outputs": [],
   "source": [
    "# public: Accessible anywhere (name)\n",
    "# _protected: Convention to indicate internal use only\n",
    "# __private: Name mangled, not directly accessible"
   ]
  },
  {
   "cell_type": "code",
   "execution_count": null,
   "id": "5200e6ff-1d90-4932-9c6b-c33716d24354",
   "metadata": {},
   "outputs": [],
   "source": []
  },
  {
   "cell_type": "code",
   "execution_count": null,
   "id": "8981c0b8-73d1-4e53-9ef0-d46b5d4c13f5",
   "metadata": {},
   "outputs": [],
   "source": [
    "# 5. Create a Python class called `Person` with a private attribute `__name`. Provide methods to get and set the name attribute."
   ]
  },
  {
   "cell_type": "code",
   "execution_count": 9,
   "id": "afab6ae8-ac93-486e-81a0-629485ea8079",
   "metadata": {},
   "outputs": [
    {
     "name": "stdout",
     "output_type": "stream",
     "text": [
      "Alice\n",
      "John\n"
     ]
    }
   ],
   "source": [
    "class Person:\n",
    "    def __init__(self, name):\n",
    "        self.__name = name\n",
    "\n",
    "    def get_name(self):\n",
    "        return self.__name\n",
    "\n",
    "    def set_name(self, name):\n",
    "        self.__name = name\n",
    "\n",
    "p = Person(\"Alice\")\n",
    "print(p.get_name())\n",
    "p.set_name(\"John\")\n",
    "print(p.get_name())\n"
   ]
  },
  {
   "cell_type": "code",
   "execution_count": null,
   "id": "759bccb4-15cd-410d-8a4e-8e578285edfa",
   "metadata": {},
   "outputs": [],
   "source": []
  },
  {
   "cell_type": "code",
   "execution_count": null,
   "id": "a5224032-6494-4f0e-9617-0f1b9795dfe9",
   "metadata": {},
   "outputs": [],
   "source": [
    "# 6. Explain the purpose of getter and setter methods in encapsulation. Provide examples."
   ]
  },
  {
   "cell_type": "code",
   "execution_count": null,
   "id": "71ddd5c8-c84a-4176-b960-83fd49053429",
   "metadata": {},
   "outputs": [],
   "source": [
    "# Getter: Returns the value of a private variable.\n",
    "# Setter: Sets/updates the value of a private variable."
   ]
  },
  {
   "cell_type": "code",
   "execution_count": null,
   "id": "b48cf94d-bbbe-4d0c-9a4c-687b1b9f98fe",
   "metadata": {},
   "outputs": [],
   "source": []
  },
  {
   "cell_type": "code",
   "execution_count": null,
   "id": "600e5484-5e51-47b2-a35d-3bac3b5eaebd",
   "metadata": {},
   "outputs": [],
   "source": [
    "# 7. What is name mangling in Python, and how does it affect encapsulation?"
   ]
  },
  {
   "cell_type": "code",
   "execution_count": null,
   "id": "6d5aacb5-1aa1-44ae-bf89-6234e73aef6d",
   "metadata": {},
   "outputs": [],
   "source": [
    "# Python internally renames private variables with _<classname>__<varname> to prevent access. This is called name mangling."
   ]
  },
  {
   "cell_type": "code",
   "execution_count": null,
   "id": "addb7eb0-d552-4efd-906f-554d79c3542e",
   "metadata": {},
   "outputs": [],
   "source": []
  },
  {
   "cell_type": "code",
   "execution_count": null,
   "id": "9c1c771c-e8bb-4995-bfd8-f47458146eaa",
   "metadata": {},
   "outputs": [],
   "source": [
    "# 8. Create a Python class called `BankAccount` with private attributes for the account balance (`__balance`) and account number (`__account_number`). Provide methods for depositing and withdrawing money."
   ]
  },
  {
   "cell_type": "code",
   "execution_count": 11,
   "id": "165f4d93-6153-41a3-a0ee-6fd0b1e2d3f2",
   "metadata": {},
   "outputs": [
    {
     "name": "stdout",
     "output_type": "stream",
     "text": [
      "1200\n"
     ]
    }
   ],
   "source": [
    "class BankAccount:\n",
    "    def __init__(self, acc_num, balance=0):\n",
    "        self.__account_number = acc_num\n",
    "        self.__balance = balance\n",
    "\n",
    "    def deposit(self, amount):\n",
    "        self.__balance += amount\n",
    "\n",
    "    def withdraw(self, amount):\n",
    "        if amount <= self.__balance:\n",
    "            self.__balance -= amount\n",
    "        else:\n",
    "            print(\"Insufficient funds\")\n",
    "\n",
    "    def get_balance(self):\n",
    "        return self.__balance\n",
    "\n",
    "b = BankAccount(\"123ABC\", 1000)\n",
    "b.deposit(500)\n",
    "b.withdraw(300)\n",
    "print(b.get_balance())\n"
   ]
  },
  {
   "cell_type": "code",
   "execution_count": null,
   "id": "e4e0fcf0-0eab-4438-9472-0f328421a0ef",
   "metadata": {},
   "outputs": [],
   "source": []
  },
  {
   "cell_type": "code",
   "execution_count": null,
   "id": "0f32dd86-40dd-4319-9b95-51c70308183c",
   "metadata": {},
   "outputs": [],
   "source": [
    "# 9. Discuss the advantages of encapsulation in terms of code maintainability and security."
   ]
  },
  {
   "cell_type": "code",
   "execution_count": null,
   "id": "e1504089-6d2a-4674-97de-0a95b532d5e4",
   "metadata": {},
   "outputs": [],
   "source": [
    "# Protects object integrity\n",
    "# Easier maintenance and testing\n",
    "# Enables abstraction\n",
    "# Restricts access"
   ]
  },
  {
   "cell_type": "code",
   "execution_count": null,
   "id": "f05ef749-8045-4672-bf18-e5b3f1309f60",
   "metadata": {},
   "outputs": [],
   "source": []
  },
  {
   "cell_type": "code",
   "execution_count": 13,
   "id": "717cbe78-79e3-40a9-be21-0451dee29b6f",
   "metadata": {},
   "outputs": [],
   "source": [
    "# 10. How can you access private attributes in Python? Provide an example demonstrating the use of name mangling."
   ]
  },
  {
   "cell_type": "code",
   "execution_count": 15,
   "id": "3ca6a1a5-3d4b-4edd-bc93-1d58c5aeca02",
   "metadata": {},
   "outputs": [
    {
     "name": "stdout",
     "output_type": "stream",
     "text": [
      "hidden\n"
     ]
    }
   ],
   "source": [
    "class Demo:\n",
    "    def __init__(self):\n",
    "        self.__secret = \"hidden\"\n",
    "\n",
    "obj = Demo()\n",
    "print(obj._Demo__secret)  # name mangling\n"
   ]
  },
  {
   "cell_type": "code",
   "execution_count": null,
   "id": "b1c9a268-67a5-4ba8-92e8-05d59e3e9656",
   "metadata": {},
   "outputs": [],
   "source": []
  },
  {
   "cell_type": "code",
   "execution_count": 17,
   "id": "458afdc1-c1a9-4027-b389-7b67f4cc2c61",
   "metadata": {},
   "outputs": [],
   "source": [
    "# 11. Create a Python class hierarchy for a school system, including classes for students, teachers, and courses, and implement encapsulation principles to protect sensitive information."
   ]
  },
  {
   "cell_type": "code",
   "execution_count": 19,
   "id": "010d41f0-4947-4eb1-a8c8-3ea1e3c23ed7",
   "metadata": {},
   "outputs": [
    {
     "name": "stdout",
     "output_type": "stream",
     "text": [
      "('Sam', 10) Math Science\n"
     ]
    }
   ],
   "source": [
    "class Student:\n",
    "    def __init__(self, name, roll):\n",
    "        self.__name = name\n",
    "        self.__roll = roll\n",
    "\n",
    "    def get_info(self):\n",
    "        return self.__name, self.__roll\n",
    "\n",
    "class Course:\n",
    "    def __init__(self, title):\n",
    "        self.__title = title\n",
    "\n",
    "    def get_title(self):\n",
    "        return self.__title\n",
    "\n",
    "class Teacher:\n",
    "    def __init__(self, name, subject):\n",
    "        self.__name = name\n",
    "        self.__subject = subject\n",
    "\n",
    "    def get_subject(self):\n",
    "        return self.__subject\n",
    "\n",
    "s = Student(\"Sam\", 10)\n",
    "c = Course(\"Math\")\n",
    "t = Teacher(\"Mrs. Smith\", \"Science\")\n",
    "\n",
    "print(s.get_info(), c.get_title(), t.get_subject())\n"
   ]
  },
  {
   "cell_type": "code",
   "execution_count": null,
   "id": "a521d466-63da-4b9f-83f5-a29fb6231cfe",
   "metadata": {},
   "outputs": [],
   "source": []
  },
  {
   "cell_type": "code",
   "execution_count": null,
   "id": "74e113a1-09cd-408c-98d8-352b76ab3261",
   "metadata": {},
   "outputs": [],
   "source": [
    "# 12. Explain the concept of property decorators in Python and how they relate to encapsulation."
   ]
  },
  {
   "cell_type": "code",
   "execution_count": 21,
   "id": "51e9abeb-9e06-4c53-aab5-4c4ed4b8f36f",
   "metadata": {},
   "outputs": [
    {
     "name": "stdout",
     "output_type": "stream",
     "text": [
      "100\n"
     ]
    }
   ],
   "source": [
    "# Property decorators allow using methods like attributes and can act as getters/setters.\n",
    "class Item:\n",
    "    def __init__(self):\n",
    "        self.__price = 0\n",
    "\n",
    "    @property\n",
    "    def price(self):\n",
    "        return self.__price\n",
    "\n",
    "    @price.setter\n",
    "    def price(self, value):\n",
    "        if value > 0:\n",
    "            self.__price = value\n",
    "\n",
    "i = Item()\n",
    "i.price = 100\n",
    "print(i.price)\n"
   ]
  },
  {
   "cell_type": "code",
   "execution_count": null,
   "id": "9f46c1a8-1f3d-427c-a96f-2fa893854c5a",
   "metadata": {},
   "outputs": [],
   "source": []
  },
  {
   "cell_type": "code",
   "execution_count": null,
   "id": "46dc9756-ccb6-4a8e-be0a-b94ba7fe6943",
   "metadata": {},
   "outputs": [],
   "source": [
    "# 13. What is data hiding, and why is it important in encapsulation? Provide examples."
   ]
  },
  {
   "cell_type": "code",
   "execution_count": 23,
   "id": "c7719f03-722a-4ab3-bae3-3deec21c94d4",
   "metadata": {},
   "outputs": [],
   "source": [
    "# Data hiding protects internal object details and prevents misuse, bugs, or inconsistency in code."
   ]
  },
  {
   "cell_type": "code",
   "execution_count": null,
   "id": "c34e434d-6e13-4724-88d5-ae56a1ab0c8d",
   "metadata": {},
   "outputs": [],
   "source": []
  },
  {
   "cell_type": "code",
   "execution_count": null,
   "id": "79526e09-bcdf-4c08-914b-085501b743ca",
   "metadata": {},
   "outputs": [],
   "source": [
    "# 14. Create a Python class called `Employee` with private attributes for salary (`__salary`) and employee ID (`__employee_id`). Provide a method to calculate yearly bonuses."
   ]
  },
  {
   "cell_type": "code",
   "execution_count": 25,
   "id": "82d0ddc8-3da4-4291-95f2-ce4646149747",
   "metadata": {},
   "outputs": [
    {
     "name": "stdout",
     "output_type": "stream",
     "text": [
      "6000.0\n"
     ]
    }
   ],
   "source": [
    "class Employee:\n",
    "    def __init__(self, emp_id, salary):\n",
    "        self.__employee_id = emp_id\n",
    "        self.__salary = salary\n",
    "\n",
    "    def yearly_bonus(self):\n",
    "        return self.__salary * 0.10\n",
    "\n",
    "e = Employee(\"E101\", 60000)\n",
    "print(e.yearly_bonus())\n"
   ]
  },
  {
   "cell_type": "code",
   "execution_count": null,
   "id": "7aafc0d0-449b-4b1f-9ade-52dac7c38718",
   "metadata": {},
   "outputs": [],
   "source": []
  },
  {
   "cell_type": "code",
   "execution_count": null,
   "id": "cc274732-f6af-4f8b-9bd6-7d94e3cd2f40",
   "metadata": {},
   "outputs": [],
   "source": [
    "# 15. Discuss the use of accessors and mutators in encapsulation. How do they help maintain control over attribute access?"
   ]
  },
  {
   "cell_type": "code",
   "execution_count": null,
   "id": "9c666a87-cc49-4847-985e-e27ac676302a",
   "metadata": {},
   "outputs": [],
   "source": [
    "# They provide controlled access to private attributes and maintain class invariants."
   ]
  },
  {
   "cell_type": "code",
   "execution_count": null,
   "id": "adace9e3-7752-4c27-81bc-3ff1d3c4d6ab",
   "metadata": {},
   "outputs": [],
   "source": []
  },
  {
   "cell_type": "code",
   "execution_count": null,
   "id": "a100719c-d813-4cbc-92a5-edbff4abc97d",
   "metadata": {},
   "outputs": [],
   "source": [
    "# 16. What are the potential drawbacks or disadvantages of using encapsulation in Python?"
   ]
  },
  {
   "cell_type": "code",
   "execution_count": null,
   "id": "5fbd689c-cc7c-4b25-945e-ab88cd4d1ddc",
   "metadata": {},
   "outputs": [],
   "source": [
    "# More code (getters/setters)\n",
    "# Overhead in simple classes\n",
    "# May reduce flexibility temporarily"
   ]
  },
  {
   "cell_type": "code",
   "execution_count": null,
   "id": "b5139065-24a9-48f8-a194-fbe655a317b7",
   "metadata": {},
   "outputs": [],
   "source": []
  },
  {
   "cell_type": "code",
   "execution_count": null,
   "id": "81217972-811b-4f45-8d34-ef6fdca71300",
   "metadata": {},
   "outputs": [],
   "source": [
    "# 17. Create a Python class for a library system that encapsulates book information, including titles, authors, and availability status."
   ]
  },
  {
   "cell_type": "code",
   "execution_count": 27,
   "id": "8e3fc512-81a8-4a8e-9972-486b5db888e0",
   "metadata": {},
   "outputs": [
    {
     "name": "stdout",
     "output_type": "stream",
     "text": [
      "('Python', 'Guido', True)\n",
      "Borrowed successfully\n",
      "('Python', 'Guido', False)\n"
     ]
    }
   ],
   "source": [
    "class Book:\n",
    "    def __init__(self, title, author, available=True):\n",
    "        self.__title = title\n",
    "        self.__author = author\n",
    "        self.__available = available\n",
    "\n",
    "    def borrow(self):\n",
    "        if self.__available:\n",
    "            self.__available = False\n",
    "            print(\"Borrowed successfully\")\n",
    "        else:\n",
    "            print(\"Not available\")\n",
    "\n",
    "    def get_info(self):\n",
    "        return self.__title, self.__author, self.__available\n",
    "\n",
    "b = Book(\"Python\", \"Guido\")\n",
    "print(b.get_info())\n",
    "b.borrow()\n",
    "print(b.get_info())\n"
   ]
  },
  {
   "cell_type": "code",
   "execution_count": null,
   "id": "103c2b74-de0e-487d-b9c1-f3e922340c66",
   "metadata": {},
   "outputs": [],
   "source": []
  },
  {
   "cell_type": "code",
   "execution_count": null,
   "id": "92573fc5-6cf1-43f3-add9-95a57445fea4",
   "metadata": {},
   "outputs": [],
   "source": [
    "# 18. Explain how encapsulation enhances code reusability and modularity in Python programs."
   ]
  },
  {
   "cell_type": "code",
   "execution_count": null,
   "id": "76f1338e-0bff-4f1b-99d4-21db61f09be4",
   "metadata": {},
   "outputs": [],
   "source": [
    "# Encapsulation isolates parts of code, making them reusable, easier to test, debug, and modify independently."
   ]
  },
  {
   "cell_type": "code",
   "execution_count": null,
   "id": "d6f4d285-fb4f-4309-b642-fc858847ad23",
   "metadata": {},
   "outputs": [],
   "source": []
  },
  {
   "cell_type": "code",
   "execution_count": null,
   "id": "6ccebf34-2cf9-4346-ab99-c80cdf4ea2d1",
   "metadata": {},
   "outputs": [],
   "source": [
    "# 19. Describe the concept of information hiding in encapsulation. Why is it essential in software development?"
   ]
  },
  {
   "cell_type": "code",
   "execution_count": null,
   "id": "fc3e1250-df48-4b77-a7d3-8cf626b381aa",
   "metadata": {},
   "outputs": [],
   "source": [
    "# Information hiding keeps class internals private and exposes only what's necessary. This reduces system complexity and prevents accidental misuse."
   ]
  },
  {
   "cell_type": "code",
   "execution_count": null,
   "id": "26cb60cb-461d-47de-ac3e-bf19d1bdcc8f",
   "metadata": {},
   "outputs": [],
   "source": []
  },
  {
   "cell_type": "code",
   "execution_count": null,
   "id": "8a0f87fc-0f15-4616-9c76-fbb706608f3f",
   "metadata": {},
   "outputs": [],
   "source": [
    "# 20. Create a Python class called `Customer` with private attributes for customer details like name, address, and contact information. Implement encapsulation to ensure data integrity and security."
   ]
  },
  {
   "cell_type": "code",
   "execution_count": 29,
   "id": "7ddfe558-856b-453e-a40f-f325b56f2c2d",
   "metadata": {},
   "outputs": [
    {
     "name": "stdout",
     "output_type": "stream",
     "text": [
      "('Alice', 'NY', '1234567890')\n",
      "('Alice', 'LA', '1234567890')\n"
     ]
    }
   ],
   "source": [
    "class Customer:\n",
    "    def __init__(self, name, address, contact):\n",
    "        self.__name = name\n",
    "        self.__address = address\n",
    "        self.__contact = contact\n",
    "\n",
    "    def get_contact_details(self):\n",
    "        return self.__name, self.__address, self.__contact\n",
    "\n",
    "    def update_address(self, new_address):\n",
    "        self.__address = new_address\n",
    "\n",
    "c = Customer(\"Alice\", \"NY\", \"1234567890\")\n",
    "print(c.get_contact_details())\n",
    "c.update_address(\"LA\")\n",
    "print(c.get_contact_details())\n"
   ]
  },
  {
   "cell_type": "code",
   "execution_count": null,
   "id": "e44cc009-5862-4133-9baa-4c2eaec9c39f",
   "metadata": {},
   "outputs": [],
   "source": []
  },
  {
   "cell_type": "code",
   "execution_count": 182,
   "id": "2f1deb4e-0f03-4021-af57-d5bd0e81fe0d",
   "metadata": {},
   "outputs": [],
   "source": [
    "# Polymorphism"
   ]
  },
  {
   "cell_type": "code",
   "execution_count": null,
   "id": "77753e8e-8fc8-46c4-9554-e9b60cb78190",
   "metadata": {},
   "outputs": [],
   "source": [
    "# 1. What is polymorphism in Python? Explain how it is related to object-oriented programming."
   ]
  },
  {
   "cell_type": "code",
   "execution_count": null,
   "id": "c3ae676d-0f01-46a3-a458-bdb8f2fda6df",
   "metadata": {},
   "outputs": [],
   "source": [
    "# Polymorphism allows the same method name to behave differently for different classes or data types. It enables code reuse and flexibility."
   ]
  },
  {
   "cell_type": "code",
   "execution_count": null,
   "id": "5eeb89ed-813a-451c-aad4-7d4ced66ac0b",
   "metadata": {},
   "outputs": [],
   "source": []
  },
  {
   "cell_type": "code",
   "execution_count": null,
   "id": "040ebcfe-6dc2-442e-a5d5-1aaf6c0b4c03",
   "metadata": {},
   "outputs": [],
   "source": [
    "# 2. Describe the difference between compile-time polymorphism and runtime polymorphism in Python."
   ]
  },
  {
   "cell_type": "code",
   "execution_count": null,
   "id": "400a20f6-84e2-45ea-8d3a-99d5495b36ed",
   "metadata": {},
   "outputs": [],
   "source": [
    "# Compile-time polymorphism: Not supported directly (e.g., method overloading).\n",
    "# Runtime polymorphism: Achieved through method overriding or duck typing."
   ]
  },
  {
   "cell_type": "code",
   "execution_count": null,
   "id": "f07d507e-5369-4bd8-a883-b01cb19948ce",
   "metadata": {},
   "outputs": [],
   "source": []
  },
  {
   "cell_type": "code",
   "execution_count": null,
   "id": "f401995b-834f-4f65-80ce-7157cfdd919f",
   "metadata": {},
   "outputs": [],
   "source": [
    "# 3. Create a Python class hierarchy for shapes (e.g., circle, square, triangle) and demonstrate polymorphism through a common method, such as `calculate_area()`."
   ]
  },
  {
   "cell_type": "code",
   "execution_count": 31,
   "id": "0c1691d2-c7ae-457d-bb51-086f6d2c1776",
   "metadata": {},
   "outputs": [
    {
     "name": "stdout",
     "output_type": "stream",
     "text": [
      "78.5\n",
      "24\n"
     ]
    }
   ],
   "source": [
    "class Shape:\n",
    "    def calculate_area(self):\n",
    "        pass\n",
    "\n",
    "class Circle(Shape):\n",
    "    def calculate_area(self):\n",
    "        return 3.14 * 5 * 5\n",
    "\n",
    "class Rectangle(Shape):\n",
    "    def calculate_area(self):\n",
    "        return 4 * 6\n",
    "\n",
    "shapes = [Circle(), Rectangle()]\n",
    "for s in shapes:\n",
    "    print(s.calculate_area())\n"
   ]
  },
  {
   "cell_type": "code",
   "execution_count": null,
   "id": "fec4db03-3880-453f-886f-9ebd5016c0ee",
   "metadata": {},
   "outputs": [],
   "source": []
  },
  {
   "cell_type": "code",
   "execution_count": null,
   "id": "ac9b44da-19ce-45e5-ab3f-078de7d4fc70",
   "metadata": {},
   "outputs": [],
   "source": [
    "# 4. Explain the concept of method overriding in polymorphism. Provide an example."
   ]
  },
  {
   "cell_type": "code",
   "execution_count": 33,
   "id": "1dc383f4-08c0-42cf-bf1a-c8b392a21c8b",
   "metadata": {},
   "outputs": [
    {
     "name": "stdout",
     "output_type": "stream",
     "text": [
      "Bark\n"
     ]
    }
   ],
   "source": [
    "# Method overriding allows a subclass to provide a specific implementation of a method defined in the superclass.\n",
    "\n",
    "class Animal:\n",
    "    def speak(self):\n",
    "        print(\"Animal speaks\")\n",
    "\n",
    "class Dog(Animal):\n",
    "    def speak(self):\n",
    "        print(\"Bark\")\n",
    "\n",
    "a = Dog()\n",
    "a.speak()\n"
   ]
  },
  {
   "cell_type": "code",
   "execution_count": null,
   "id": "af755ead-ed8a-46b3-973b-044b4641e00a",
   "metadata": {},
   "outputs": [],
   "source": []
  },
  {
   "cell_type": "code",
   "execution_count": null,
   "id": "91bf106b-59ab-4832-8d26-283e37040ad5",
   "metadata": {},
   "outputs": [],
   "source": [
    "# 5. How is polymorphism different from method overloading in Python? Provide examples for both."
   ]
  },
  {
   "cell_type": "code",
   "execution_count": null,
   "id": "7e4fe8ef-1f7c-459a-969d-efcf4c0a9277",
   "metadata": {},
   "outputs": [],
   "source": [
    "# Polymorphism is the ability to redefine a method in multiple classes.\n",
    "# Method overloading means multiple methods with the same name and different parameters (not supported natively in Python)."
   ]
  },
  {
   "cell_type": "code",
   "execution_count": null,
   "id": "8271187e-8db5-4a23-923f-be1e0cfebf63",
   "metadata": {},
   "outputs": [],
   "source": []
  },
  {
   "cell_type": "code",
   "execution_count": null,
   "id": "562a6c21-084d-4694-96a6-5e54472071f5",
   "metadata": {},
   "outputs": [],
   "source": [
    "# 6. Create a Python class called `Animal` with a method `speak()`. Then, create child classes like `Dog`, `Cat`, and `Bird`, each with their own `speak()` method. Demonstrate polymorphism by calling the `speak()` method on objects of different subclasses."
   ]
  },
  {
   "cell_type": "code",
   "execution_count": 35,
   "id": "04822621-e2ea-4239-b224-ac8c5c6e011d",
   "metadata": {},
   "outputs": [
    {
     "name": "stdout",
     "output_type": "stream",
     "text": [
      "Bark\n",
      "Meow\n",
      "Chirp\n"
     ]
    }
   ],
   "source": [
    "class Animal:\n",
    "    def speak(self):\n",
    "        pass\n",
    "\n",
    "class Dog(Animal):\n",
    "    def speak(self):\n",
    "        print(\"Bark\")\n",
    "\n",
    "class Cat(Animal):\n",
    "    def speak(self):\n",
    "        print(\"Meow\")\n",
    "\n",
    "class Bird(Animal):\n",
    "    def speak(self):\n",
    "        print(\"Chirp\")\n",
    "\n",
    "animals = [Dog(), Cat(), Bird()]\n",
    "for a in animals:\n",
    "    a.speak()\n"
   ]
  },
  {
   "cell_type": "code",
   "execution_count": null,
   "id": "99fb0cb6-af15-4dab-8d8c-b142d320a67e",
   "metadata": {},
   "outputs": [],
   "source": []
  },
  {
   "cell_type": "code",
   "execution_count": null,
   "id": "dc6aa1d2-6e9e-4a8f-8c10-f4fc5c1dc0e8",
   "metadata": {},
   "outputs": [],
   "source": [
    "# 7. Discuss the use of abstract methods and classes in achieving polymorphism in Python. Provide an example using the `abc` module."
   ]
  },
  {
   "cell_type": "code",
   "execution_count": 37,
   "id": "4ff384bd-4c03-47c5-ac96-20206254427f",
   "metadata": {},
   "outputs": [
    {
     "name": "stdout",
     "output_type": "stream",
     "text": [
      "Bark\n"
     ]
    }
   ],
   "source": [
    "from abc import ABC, abstractmethod\n",
    "\n",
    "class Animal(ABC):\n",
    "    @abstractmethod\n",
    "    def speak(self):\n",
    "        pass\n",
    "\n",
    "class Dog(Animal):\n",
    "    def speak(self):\n",
    "        print(\"Bark\")\n",
    "\n",
    "d = Dog()\n",
    "d.speak()\n"
   ]
  },
  {
   "cell_type": "code",
   "execution_count": null,
   "id": "d0e6e634-ef47-4ec7-9b61-c3498dd8a4c2",
   "metadata": {},
   "outputs": [],
   "source": []
  },
  {
   "cell_type": "code",
   "execution_count": null,
   "id": "14cbbf0f-8da4-4a26-a86d-1e6b0e55c036",
   "metadata": {},
   "outputs": [],
   "source": [
    "# 8. Create a Python class hierarchy for a vehicle system (e.g., car, bicycle, boat) and implement a polymorphic `start()` method that prints a message specific to each vehicle type."
   ]
  },
  {
   "cell_type": "code",
   "execution_count": 39,
   "id": "39e68295-f244-4b21-912f-2c0a98b1fb81",
   "metadata": {},
   "outputs": [
    {
     "name": "stdout",
     "output_type": "stream",
     "text": [
      "Car started\n",
      "Bicycle started\n"
     ]
    }
   ],
   "source": [
    "class Vehicle:\n",
    "    def start(self):\n",
    "        pass\n",
    "\n",
    "class Car(Vehicle):\n",
    "    def start(self):\n",
    "        print(\"Car started\")\n",
    "\n",
    "class Bicycle(Vehicle):\n",
    "    def start(self):\n",
    "        print(\"Bicycle started\")\n",
    "\n",
    "v1 = Car()\n",
    "v2 = Bicycle()\n",
    "\n",
    "for v in [v1, v2]:\n",
    "    v.start()"
   ]
  },
  {
   "cell_type": "code",
   "execution_count": null,
   "id": "6c806c3d-f7cf-447e-b98c-fcf473898ad8",
   "metadata": {},
   "outputs": [],
   "source": []
  },
  {
   "cell_type": "code",
   "execution_count": null,
   "id": "e6b8f0e4-d4cf-4b7f-906f-01d54cd1a18e",
   "metadata": {},
   "outputs": [],
   "source": [
    "# 9. Explain the significance of the `isinstance()` and `issubclass()` functions in Python polymorphism."
   ]
  },
  {
   "cell_type": "code",
   "execution_count": null,
   "id": "0d0db591-1310-48ed-81d1-74b519309743",
   "metadata": {},
   "outputs": [],
   "source": [
    "# isinstance(obj, Class) → checks object type\n",
    "# issubclass(Sub, Super) → checks inheritance"
   ]
  },
  {
   "cell_type": "code",
   "execution_count": null,
   "id": "4d630b45-4fbf-4731-9c0b-ea14635d9189",
   "metadata": {},
   "outputs": [],
   "source": []
  },
  {
   "cell_type": "code",
   "execution_count": null,
   "id": "551b55eb-c0a4-4c92-8693-95f45e4c4348",
   "metadata": {},
   "outputs": [],
   "source": [
    "# 10. What is the role of the `@abstractmethod` decorator in achieving polymorphism in Python? Provide an example."
   ]
  },
  {
   "cell_type": "code",
   "execution_count": null,
   "id": "3449745f-d1c0-4c99-b78b-54e21cd93718",
   "metadata": {},
   "outputs": [],
   "source": [
    "# It enforces derived classes to implement a method, enabling consistent polymorphic behavior."
   ]
  },
  {
   "cell_type": "code",
   "execution_count": null,
   "id": "ad0d2893-3dc4-48b0-b44e-c74bc35d73ea",
   "metadata": {},
   "outputs": [],
   "source": []
  },
  {
   "cell_type": "code",
   "execution_count": null,
   "id": "503fa615-c5b1-4298-ac39-f2ef2672d602",
   "metadata": {},
   "outputs": [],
   "source": [
    "# 11. Create a Python class called `Shape` with a polymorphic method `area()` that calculates the area of different shapes (e.g., circle, rectangle, triangle)."
   ]
  },
  {
   "cell_type": "code",
   "execution_count": 41,
   "id": "3a35dc70-bfa1-4caf-9693-e8ef5c0dc299",
   "metadata": {},
   "outputs": [
    {
     "name": "stdout",
     "output_type": "stream",
     "text": [
      "153.86 25.0\n"
     ]
    }
   ],
   "source": [
    "class Shape:\n",
    "    def area(self):\n",
    "        pass\n",
    "\n",
    "class Circle(Shape):\n",
    "    def area(self):\n",
    "        return 3.14 * 7 * 7\n",
    "\n",
    "class Triangle(Shape):\n",
    "    def area(self):\n",
    "        return 0.5 * 10 * 5\n",
    "\n",
    "s1 = Circle()\n",
    "s2 = Triangle()\n",
    "print(s1.area(), s2.area())\n"
   ]
  },
  {
   "cell_type": "code",
   "execution_count": null,
   "id": "60639ab8-3cef-4bd2-b21a-c32f96959535",
   "metadata": {},
   "outputs": [],
   "source": []
  },
  {
   "cell_type": "code",
   "execution_count": null,
   "id": "bb278c63-d205-4049-9fcb-abe0f12193e0",
   "metadata": {},
   "outputs": [],
   "source": [
    "# 12. Discuss the benefits of polymorphism in terms of code reusability and flexibility in Python programs."
   ]
  },
  {
   "cell_type": "code",
   "execution_count": null,
   "id": "69ac4055-2c71-4535-9bba-f0304d71a0ff",
   "metadata": {},
   "outputs": [],
   "source": [
    "# Code reuse\n",
    "# Flexibility\n",
    "# Reduces coupling\n",
    "# Easier to extend and maintain"
   ]
  },
  {
   "cell_type": "code",
   "execution_count": null,
   "id": "a75638fa-e5c5-465b-bd29-21b44d3a379c",
   "metadata": {},
   "outputs": [],
   "source": []
  },
  {
   "cell_type": "code",
   "execution_count": null,
   "id": "2e1f31aa-1673-4d76-a92d-4b2ec56c1546",
   "metadata": {},
   "outputs": [],
   "source": [
    "# 13. Explain the use of the `super()` function in Python polymorphism. How does it help call methods of parent classes?"
   ]
  },
  {
   "cell_type": "code",
   "execution_count": null,
   "id": "e6e8e60e-32a4-45c0-8272-759bacd6e317",
   "metadata": {},
   "outputs": [],
   "source": [
    "# super() lets you call methods of a parent class that may be overridden."
   ]
  },
  {
   "cell_type": "code",
   "execution_count": null,
   "id": "e2db9ec8-fc3e-44f1-bd1d-6cad590c8ce7",
   "metadata": {},
   "outputs": [],
   "source": []
  },
  {
   "cell_type": "code",
   "execution_count": null,
   "id": "5d233248-0376-4bdd-bebc-c2b6a4cc8d4d",
   "metadata": {},
   "outputs": [],
   "source": [
    "# 14. Create a Python class hierarchy for a banking system with various account types (e.g., savings, checking, credit card) and demonstrate polymorphism by implementing a common `withdraw()` method."
   ]
  },
  {
   "cell_type": "code",
   "execution_count": 43,
   "id": "77a262d2-b31e-447a-88a7-155704c3f2d0",
   "metadata": {},
   "outputs": [
    {
     "name": "stdout",
     "output_type": "stream",
     "text": [
      "Withdraw from Savings\n",
      "Withdraw from CreditCard\n"
     ]
    }
   ],
   "source": [
    "class Account:\n",
    "    def withdraw(self):\n",
    "        pass\n",
    "\n",
    "class Savings(Account):\n",
    "    def withdraw(self):\n",
    "        print(\"Withdraw from Savings\")\n",
    "\n",
    "class CreditCard(Account):\n",
    "    def withdraw(self):\n",
    "        print(\"Withdraw from CreditCard\")\n",
    "\n",
    "a1 = Savings()\n",
    "a2 = CreditCard()\n",
    "for a in [a1, a2]:\n",
    "    a.withdraw()\n"
   ]
  },
  {
   "cell_type": "code",
   "execution_count": null,
   "id": "81ef1870-3ff2-440b-bbed-8d971ca13686",
   "metadata": {},
   "outputs": [],
   "source": []
  },
  {
   "cell_type": "code",
   "execution_count": null,
   "id": "9ffdeddb-886d-490f-837c-d256a9fbf695",
   "metadata": {},
   "outputs": [],
   "source": [
    "# 15. Describe the concept of operator overloading in Python and how it relates to polymorphism. Provide examples using operators like `+` and `*`."
   ]
  },
  {
   "cell_type": "code",
   "execution_count": 45,
   "id": "bdc606ab-e79b-426c-a473-640025ad8bdc",
   "metadata": {},
   "outputs": [
    {
     "name": "stdout",
     "output_type": "stream",
     "text": [
      "15\n"
     ]
    }
   ],
   "source": [
    "class Point:\n",
    "    def __init__(self, x):\n",
    "        self.x = x\n",
    "\n",
    "    def __add__(self, other):\n",
    "        return Point(self.x + other.x)\n",
    "\n",
    "    def __str__(self):\n",
    "        return str(self.x)\n",
    "\n",
    "p1 = Point(10)\n",
    "p2 = Point(5)\n",
    "print(p1 + p2)  # 15\n"
   ]
  },
  {
   "cell_type": "code",
   "execution_count": null,
   "id": "006fe612-0a5f-452c-950e-3278f4fae899",
   "metadata": {},
   "outputs": [],
   "source": []
  },
  {
   "cell_type": "code",
   "execution_count": null,
   "id": "6153161e-bcb3-4016-9cc7-45333286cc84",
   "metadata": {},
   "outputs": [],
   "source": [
    "# 16. What is dynamic polymorphism, and how is it achieved in Python?"
   ]
  },
  {
   "cell_type": "code",
   "execution_count": null,
   "id": "a74d96f8-407f-4bbc-b7a2-b278c74b6b8b",
   "metadata": {},
   "outputs": [],
   "source": [
    "# Dynamic polymorphism is when the method to be invoked is determined at runtime (method overriding)."
   ]
  },
  {
   "cell_type": "code",
   "execution_count": null,
   "id": "b65b22c9-2a56-409d-bfe5-d04947b01e11",
   "metadata": {},
   "outputs": [],
   "source": []
  },
  {
   "cell_type": "code",
   "execution_count": null,
   "id": "2d542823-31ca-44da-a1d2-6a6c2efe725a",
   "metadata": {},
   "outputs": [],
   "source": [
    "# 17. Create a Python class hierarchy for employees in a company (e.g., manager, developer, designer) and implement polymorphism through a common `calculate_salary()` method."
   ]
  },
  {
   "cell_type": "code",
   "execution_count": 47,
   "id": "6f130129-0d4b-45d3-a086-2f419ab92718",
   "metadata": {},
   "outputs": [
    {
     "name": "stdout",
     "output_type": "stream",
     "text": [
      "50000\n",
      "70000\n"
     ]
    }
   ],
   "source": [
    "class Employee:\n",
    "    def calculate_salary(self):\n",
    "        pass\n",
    "\n",
    "class Developer(Employee):\n",
    "    def calculate_salary(self):\n",
    "        return 50000\n",
    "\n",
    "class Manager(Employee):\n",
    "    def calculate_salary(self):\n",
    "        return 70000\n",
    "\n",
    "employees = [Developer(), Manager()]\n",
    "for emp in employees:\n",
    "    print(emp.calculate_salary())\n"
   ]
  },
  {
   "cell_type": "code",
   "execution_count": null,
   "id": "3a8c5865-5313-4adb-a13b-fd56d08262fa",
   "metadata": {},
   "outputs": [],
   "source": []
  },
  {
   "cell_type": "code",
   "execution_count": null,
   "id": "0451e79e-76f0-4ece-829e-e74fa982d5d5",
   "metadata": {},
   "outputs": [],
   "source": [
    "# 18. Discuss the concept of function pointers and how they can be used to achieve polymorphism in Python."
   ]
  },
  {
   "cell_type": "code",
   "execution_count": 49,
   "id": "fcd9e8a9-58ff-4b28-86c3-087933f00bbd",
   "metadata": {},
   "outputs": [
    {
     "name": "stdout",
     "output_type": "stream",
     "text": [
      "Hello\n",
      "Welcome\n"
     ]
    }
   ],
   "source": [
    "# python functions are first-class objects and can be passed like variables.\n",
    "\n",
    "def greet():\n",
    "    print(\"Hello\")\n",
    "\n",
    "def welcome():\n",
    "    print(\"Welcome\")\n",
    "\n",
    "funcs = [greet, welcome]\n",
    "for f in funcs:\n",
    "    f()\n"
   ]
  },
  {
   "cell_type": "code",
   "execution_count": null,
   "id": "dff0bea0-965d-46d2-a1fc-952686647095",
   "metadata": {},
   "outputs": [],
   "source": []
  },
  {
   "cell_type": "code",
   "execution_count": null,
   "id": "53336a70-61f0-4e8c-82ef-d6b985655f91",
   "metadata": {},
   "outputs": [],
   "source": [
    "# 19. Explain the role of interfaces and abstract classes in polymorphism, drawing comparisons between them."
   ]
  },
  {
   "cell_type": "code",
   "execution_count": null,
   "id": "0e76c9d7-3db7-477a-be0f-5df354f234e7",
   "metadata": {},
   "outputs": [],
   "source": [
    "# Abstract Class: Can have abstract + concrete methods.\n",
    "# Interface (via ABC): Enforces strict method implementation in child classes."
   ]
  },
  {
   "cell_type": "code",
   "execution_count": null,
   "id": "ac8bebbe-1195-42d9-b841-5fbdea7e4719",
   "metadata": {},
   "outputs": [],
   "source": []
  },
  {
   "cell_type": "code",
   "execution_count": null,
   "id": "b887261b-eeec-4215-8309-7a8b2a9dffc4",
   "metadata": {},
   "outputs": [],
   "source": [
    "# 20. Create a Python class for a zoo simulation, demonstrating polymorphism with different animal types (e.g., mammals, birds, reptiles) and their behavior (e.g., eating, sleeping, making sounds)."
   ]
  },
  {
   "cell_type": "code",
   "execution_count": 51,
   "id": "0db8da7c-cca3-4a54-b5f9-07288534abda",
   "metadata": {},
   "outputs": [
    {
     "name": "stdout",
     "output_type": "stream",
     "text": [
      "Mammal sound\n",
      "Bird sound\n",
      "Hiss\n"
     ]
    }
   ],
   "source": [
    "class Animal:\n",
    "    def sound(self):\n",
    "        pass\n",
    "\n",
    "class Mammal(Animal):\n",
    "    def sound(self):\n",
    "        print(\"Mammal sound\")\n",
    "\n",
    "class Bird(Animal):\n",
    "    def sound(self):\n",
    "        print(\"Bird sound\")\n",
    "\n",
    "class Reptile(Animal):\n",
    "    def sound(self):\n",
    "        print(\"Hiss\")\n",
    "\n",
    "zoo = [Mammal(), Bird(), Reptile()]\n",
    "for animal in zoo:\n",
    "    animal.sound()\n"
   ]
  },
  {
   "cell_type": "code",
   "execution_count": null,
   "id": "d9159b56-b019-48ec-9d44-0276b8d43d20",
   "metadata": {},
   "outputs": [],
   "source": []
  },
  {
   "cell_type": "code",
   "execution_count": 184,
   "id": "c855cef1-8587-4913-94c9-ef2fc8dfbca7",
   "metadata": {},
   "outputs": [],
   "source": [
    "# Abstraction"
   ]
  },
  {
   "cell_type": "code",
   "execution_count": 186,
   "id": "ab6b9d02-3d85-403a-be58-3fa9153ed166",
   "metadata": {},
   "outputs": [],
   "source": [
    "# 1. What is abstraction in Python, and how does it relate to object-oriented programming?"
   ]
  },
  {
   "cell_type": "code",
   "execution_count": null,
   "id": "20f594ef-068f-43a3-94c2-203c2fc14535",
   "metadata": {},
   "outputs": [],
   "source": [
    "# Abstraction is the process of hiding implementation details and showing only the necessary features to the user. It simplifies complex systems."
   ]
  },
  {
   "cell_type": "code",
   "execution_count": null,
   "id": "1fc6ca0a-832d-4e50-8c1f-fd3445ac795a",
   "metadata": {},
   "outputs": [],
   "source": []
  },
  {
   "cell_type": "code",
   "execution_count": null,
   "id": "6d7dfbfe-cadc-478f-b4bd-60c88d2afa17",
   "metadata": {},
   "outputs": [],
   "source": [
    "# 2. Describe the benefits of abstraction in terms of code organization and complexity reduction."
   ]
  },
  {
   "cell_type": "code",
   "execution_count": null,
   "id": "0ba07cc6-abc2-44c6-ae88-8d56ad46567f",
   "metadata": {},
   "outputs": [],
   "source": [
    "# Reduces complexity\n",
    "# Improves code readability\n",
    "# Increases security\n",
    "# Enhances modularity and maintainability"
   ]
  },
  {
   "cell_type": "code",
   "execution_count": null,
   "id": "ee8d2d81-ffe9-4bc0-9ba8-aa20fc12e0b6",
   "metadata": {},
   "outputs": [],
   "source": []
  },
  {
   "cell_type": "code",
   "execution_count": null,
   "id": "01631a8a-115f-4113-9b83-2c3d2535589b",
   "metadata": {},
   "outputs": [],
   "source": [
    "# 3. Create a Python class called `Shape` with an abstract method `calculate_area()`. Then, create child classes (e.g., `Circle`, `Rectangle`) that implement the `calculate_area()` method. Provide an example of using these classes."
   ]
  },
  {
   "cell_type": "code",
   "execution_count": 53,
   "id": "56d65fcf-ee56-4e87-a241-243b0b4172cc",
   "metadata": {},
   "outputs": [
    {
     "name": "stdout",
     "output_type": "stream",
     "text": [
      "78.5\n",
      "20\n"
     ]
    }
   ],
   "source": [
    "from abc import ABC, abstractmethod\n",
    "\n",
    "class Shape(ABC):\n",
    "    @abstractmethod\n",
    "    def calculate_area(self):\n",
    "        pass\n",
    "\n",
    "class Circle(Shape):\n",
    "    def calculate_area(self):\n",
    "        return 3.14 * 5 * 5\n",
    "\n",
    "class Rectangle(Shape):\n",
    "    def calculate_area(self):\n",
    "        return 4 * 5\n",
    "\n",
    "shapes = [Circle(), Rectangle()]\n",
    "for shape in shapes:\n",
    "    print(shape.calculate_area())\n"
   ]
  },
  {
   "cell_type": "code",
   "execution_count": null,
   "id": "2840e043-c81d-498e-85af-5c1511b77a5f",
   "metadata": {},
   "outputs": [],
   "source": []
  },
  {
   "cell_type": "code",
   "execution_count": null,
   "id": "28624576-c053-4e8b-8ea8-58cbcc024db2",
   "metadata": {},
   "outputs": [],
   "source": [
    "# 4. Explain the concept of abstract classes in Python and how they are defined using the `abc` module. Provide an example."
   ]
  },
  {
   "cell_type": "code",
   "execution_count": null,
   "id": "8842020a-b1e8-4165-bdb2-205a7f7fbd42",
   "metadata": {},
   "outputs": [],
   "source": [
    "# An abstract class is a class that cannot be instantiated and contains one or more abstract methods. Defined using the abc module."
   ]
  },
  {
   "cell_type": "code",
   "execution_count": null,
   "id": "b0ba3807-7dc7-4c19-af2e-c1545c5999c7",
   "metadata": {},
   "outputs": [],
   "source": []
  },
  {
   "cell_type": "code",
   "execution_count": null,
   "id": "26d2f041-0e8f-44b1-8e16-2ed3c95d0fc5",
   "metadata": {},
   "outputs": [],
   "source": [
    "# 5. How do abstract classes differ from regular classes in Python? Discuss their use cases."
   ]
  },
  {
   "cell_type": "code",
   "execution_count": null,
   "id": "6371f8ee-95c4-4b2f-8b88-d0ab589ac6f1",
   "metadata": {},
   "outputs": [],
   "source": [
    "# Abstract classes cannot be instantiated.\n",
    "# Must be subclassed and abstract methods implemented.\n",
    "# Regular classes can be used directly."
   ]
  },
  {
   "cell_type": "code",
   "execution_count": null,
   "id": "95ae8304-7f75-4628-872e-e0b48980c033",
   "metadata": {},
   "outputs": [],
   "source": []
  },
  {
   "cell_type": "code",
   "execution_count": null,
   "id": "b18a4914-6735-47b5-ac02-bb644f585d68",
   "metadata": {},
   "outputs": [],
   "source": [
    "# 6. Create a Python class for a bank account and demonstrate abstraction by hiding the account balance and providing methods to deposit and withdraw funds."
   ]
  },
  {
   "cell_type": "code",
   "execution_count": 55,
   "id": "43b60486-e802-44ae-8940-36e1f979a4a1",
   "metadata": {},
   "outputs": [
    {
     "name": "stdout",
     "output_type": "stream",
     "text": [
      "700\n"
     ]
    }
   ],
   "source": [
    "class BankAccount:\n",
    "    def __init__(self):\n",
    "        self.__balance = 0\n",
    "\n",
    "    def deposit(self, amount):\n",
    "        self.__balance += amount\n",
    "\n",
    "    def withdraw(self, amount):\n",
    "        if amount <= self.__balance:\n",
    "            self.__balance -= amount\n",
    "        else:\n",
    "            print(\"Insufficient balance\")\n",
    "\n",
    "    def get_balance(self):\n",
    "        return self.__balance\n",
    "\n",
    "b = BankAccount()\n",
    "b.deposit(1000)\n",
    "b.withdraw(300)\n",
    "print(b.get_balance())\n"
   ]
  },
  {
   "cell_type": "code",
   "execution_count": null,
   "id": "698227db-fb4c-4e7e-b823-bb22f9e2632b",
   "metadata": {},
   "outputs": [],
   "source": []
  },
  {
   "cell_type": "code",
   "execution_count": null,
   "id": "f530536b-c4d9-40ac-a90a-a8eee6ee9166",
   "metadata": {},
   "outputs": [],
   "source": [
    "# 7. Discuss the concept of interface classes in Python and their role in achieving abstraction."
   ]
  },
  {
   "cell_type": "code",
   "execution_count": null,
   "id": "0bc199d5-2da0-44b8-af8c-dfd1518bb5db",
   "metadata": {},
   "outputs": [],
   "source": [
    "# Python doesn’t have interfaces explicitly. Abstract classes with only abstract methods act like interfaces."
   ]
  },
  {
   "cell_type": "code",
   "execution_count": null,
   "id": "b3d83da5-4d0a-4c7b-b9ed-fe74d776ec37",
   "metadata": {},
   "outputs": [],
   "source": []
  },
  {
   "cell_type": "code",
   "execution_count": null,
   "id": "b8ffd2b1-82d2-4914-a93b-c258b89c4ae0",
   "metadata": {},
   "outputs": [],
   "source": [
    "# 8. Create a Python class hierarchy for animals and implement abstraction by defining common methods (e.g., `eat()`, `sleep()`) in an abstract base class."
   ]
  },
  {
   "cell_type": "code",
   "execution_count": 57,
   "id": "d79cba2d-a7bd-44a5-afb2-08e35d6f53ca",
   "metadata": {},
   "outputs": [
    {
     "name": "stdout",
     "output_type": "stream",
     "text": [
      "Dog eats bones\n",
      "Dog sleeps at night\n"
     ]
    }
   ],
   "source": [
    "from abc import ABC, abstractmethod\n",
    "\n",
    "class Animal(ABC):\n",
    "    @abstractmethod\n",
    "    def eat(self):\n",
    "        pass\n",
    "\n",
    "    @abstractmethod\n",
    "    def sleep(self):\n",
    "        pass\n",
    "\n",
    "class Dog(Animal):\n",
    "    def eat(self):\n",
    "        print(\"Dog eats bones\")\n",
    "\n",
    "    def sleep(self):\n",
    "        print(\"Dog sleeps at night\")\n",
    "\n",
    "d = Dog()\n",
    "d.eat()\n",
    "d.sleep()\n"
   ]
  },
  {
   "cell_type": "code",
   "execution_count": null,
   "id": "457b5666-7c54-4542-86db-91d3f816c865",
   "metadata": {},
   "outputs": [],
   "source": []
  },
  {
   "cell_type": "code",
   "execution_count": null,
   "id": "fe2b94cd-ae17-414c-9144-20a5b26a78ff",
   "metadata": {},
   "outputs": [],
   "source": [
    "# 9. Explain the significance of encapsulation in achieving abstraction. Provide examples."
   ]
  },
  {
   "cell_type": "code",
   "execution_count": null,
   "id": "1f28bfc4-39f8-40af-a899-f09f17dd11a0",
   "metadata": {},
   "outputs": [],
   "source": [
    "# Encapsulation hides internal state using private variables, which complements abstraction by exposing only relevant behavior."
   ]
  },
  {
   "cell_type": "code",
   "execution_count": null,
   "id": "cfc0efc0-292e-4d36-a551-3fc1f0f3c858",
   "metadata": {},
   "outputs": [],
   "source": []
  },
  {
   "cell_type": "code",
   "execution_count": null,
   "id": "700d677d-5d3c-4cfb-939b-fdfa409699f3",
   "metadata": {},
   "outputs": [],
   "source": [
    "# 10. What is the purpose of abstract methods, and how do they enforce abstraction in Python classes?"
   ]
  },
  {
   "cell_type": "code",
   "execution_count": null,
   "id": "704bad51-f450-4194-b103-5c30c044e644",
   "metadata": {},
   "outputs": [],
   "source": [
    "# To enforce that subclasses must provide an implementation of the method. Helps create a common interface."
   ]
  },
  {
   "cell_type": "code",
   "execution_count": null,
   "id": "12675f31-6fb9-4beb-8d8b-a14eda60b573",
   "metadata": {},
   "outputs": [],
   "source": []
  },
  {
   "cell_type": "code",
   "execution_count": null,
   "id": "a79bd864-0cdc-4ffd-8083-fe71517b8359",
   "metadata": {},
   "outputs": [],
   "source": [
    "# 11. Create a Python class for a vehicle system and demonstrate abstraction by defining common methods (e.g., `start()`, `stop()`) in an abstract base class."
   ]
  },
  {
   "cell_type": "code",
   "execution_count": 59,
   "id": "fe953be1-bfa9-4485-a7b0-4cc8d7475fba",
   "metadata": {},
   "outputs": [
    {
     "name": "stdout",
     "output_type": "stream",
     "text": [
      "Car started\n",
      "Car stopped\n"
     ]
    }
   ],
   "source": [
    "from abc import ABC, abstractmethod\n",
    "\n",
    "class Vehicle(ABC):\n",
    "    @abstractmethod\n",
    "    def start(self):\n",
    "        pass\n",
    "\n",
    "    @abstractmethod\n",
    "    def stop(self):\n",
    "        pass\n",
    "\n",
    "class Car(Vehicle):\n",
    "    def start(self):\n",
    "        print(\"Car started\")\n",
    "\n",
    "    def stop(self):\n",
    "        print(\"Car stopped\")\n",
    "\n",
    "c = Car()\n",
    "c.start()\n",
    "c.stop()\n"
   ]
  },
  {
   "cell_type": "code",
   "execution_count": null,
   "id": "0f1f1148-0013-4fc4-af92-48c09cc33eca",
   "metadata": {},
   "outputs": [],
   "source": []
  },
  {
   "cell_type": "code",
   "execution_count": null,
   "id": "f31ab90b-df41-49e9-808e-4b78a8869a34",
   "metadata": {},
   "outputs": [],
   "source": [
    "# 12. Describe the use of abstract properties in Python and how they can be employed in abstract classes."
   ]
  },
  {
   "cell_type": "code",
   "execution_count": null,
   "id": "e3f0a739-42c0-403f-af10-653c4047803a",
   "metadata": {},
   "outputs": [],
   "source": [
    "# Abstract properties are property methods that must be implemented in subclasses."
   ]
  },
  {
   "cell_type": "code",
   "execution_count": null,
   "id": "b328e86b-5529-422c-b4e5-835a2c6d88c9",
   "metadata": {},
   "outputs": [],
   "source": []
  },
  {
   "cell_type": "code",
   "execution_count": null,
   "id": "7ebd044a-7ba7-44fb-8b72-46efcdb08fec",
   "metadata": {},
   "outputs": [],
   "source": [
    "# 13. Create a Python class hierarchy for employees in a company (e.g., manager, developer, designer) and implement abstraction by defining a common `get_salary()` method."
   ]
  },
  {
   "cell_type": "code",
   "execution_count": 61,
   "id": "62ec47cf-0e4b-4dbc-9cec-22fb9de36e51",
   "metadata": {},
   "outputs": [
    {
     "name": "stdout",
     "output_type": "stream",
     "text": [
      "70000\n",
      "50000\n"
     ]
    }
   ],
   "source": [
    "from abc import ABC, abstractmethod\n",
    "\n",
    "class Employee(ABC):\n",
    "    @abstractmethod\n",
    "    def get_salary(self):\n",
    "        pass\n",
    "\n",
    "class Manager(Employee):\n",
    "    def get_salary(self):\n",
    "        return 70000\n",
    "\n",
    "class Developer(Employee):\n",
    "    def get_salary(self):\n",
    "        return 50000\n",
    "\n",
    "employees = [Manager(), Developer()]\n",
    "for e in employees:\n",
    "    print(e.get_salary())\n"
   ]
  },
  {
   "cell_type": "code",
   "execution_count": null,
   "id": "82fb5962-5129-4e95-b372-b659b46cda33",
   "metadata": {},
   "outputs": [],
   "source": []
  },
  {
   "cell_type": "code",
   "execution_count": null,
   "id": "d0174c71-459f-4cf4-9ded-d20e3500cf7b",
   "metadata": {},
   "outputs": [],
   "source": [
    "# 14. Discuss the differences between abstract classes and concrete classes in Python, including their instantiation."
   ]
  },
  {
   "cell_type": "code",
   "execution_count": null,
   "id": "de2c2858-0469-46c9-a675-b19bc62d1317",
   "metadata": {},
   "outputs": [],
   "source": [
    "# Abstract: Cannot be instantiated, may have abstract methods.\n",
    "# Concrete: Fully implemented, can be instantiated."
   ]
  },
  {
   "cell_type": "code",
   "execution_count": null,
   "id": "2f85b78a-e7ad-47c0-ba81-bdf84bdbba50",
   "metadata": {},
   "outputs": [],
   "source": []
  },
  {
   "cell_type": "code",
   "execution_count": null,
   "id": "3d89f594-9a20-4e52-ae0e-921e3b35b1d0",
   "metadata": {},
   "outputs": [],
   "source": [
    "# 15. Explain the concept of abstract data types (ADTs) and their role in achieving abstraction in Python."
   ]
  },
  {
   "cell_type": "code",
   "execution_count": null,
   "id": "a478275c-2c4b-462a-b0a0-cfc19dc6c9c8",
   "metadata": {},
   "outputs": [],
   "source": [
    "# ADTs define behavior of data structures (like list, stack) without specifying implementation.\n",
    "# Examples: list, set, queue, etc. "
   ]
  },
  {
   "cell_type": "code",
   "execution_count": null,
   "id": "a9a10e79-791b-48a7-8773-53e808e5d5dd",
   "metadata": {},
   "outputs": [],
   "source": []
  },
  {
   "cell_type": "code",
   "execution_count": null,
   "id": "3eadf75e-04d0-471f-9129-6c9d133b6549",
   "metadata": {},
   "outputs": [],
   "source": [
    "# 16. Create a Python class for a computer system, demonstrating abstraction by defining common methods (e.g., `power_on()`, `shutdown()`) in an abstract base class."
   ]
  },
  {
   "cell_type": "code",
   "execution_count": 63,
   "id": "9ec3c01b-3e71-401c-8b0e-fb9026b3e9fc",
   "metadata": {},
   "outputs": [
    {
     "name": "stdout",
     "output_type": "stream",
     "text": [
      "Laptop booting...\n",
      "Laptop shutting down...\n"
     ]
    }
   ],
   "source": [
    "from abc import ABC, abstractmethod\n",
    "\n",
    "class Computer(ABC):\n",
    "    @abstractmethod\n",
    "    def power_on(self):\n",
    "        pass\n",
    "\n",
    "    @abstractmethod\n",
    "    def shutdown(self):\n",
    "        pass\n",
    "\n",
    "class Laptop(Computer):\n",
    "    def power_on(self):\n",
    "        print(\"Laptop booting...\")\n",
    "\n",
    "    def shutdown(self):\n",
    "        print(\"Laptop shutting down...\")\n",
    "\n",
    "l = Laptop()\n",
    "l.power_on()\n",
    "l.shutdown()\n"
   ]
  },
  {
   "cell_type": "code",
   "execution_count": null,
   "id": "08a1f18a-089c-4e5c-90c9-b4e89924a1f9",
   "metadata": {},
   "outputs": [],
   "source": []
  },
  {
   "cell_type": "code",
   "execution_count": null,
   "id": "3e77f33c-ef77-4a57-bb3b-7d010ed9e6fd",
   "metadata": {},
   "outputs": [],
   "source": [
    "# 17. Discuss the benefits of using abstraction in large-scale software development projects."
   ]
  },
  {
   "cell_type": "code",
   "execution_count": null,
   "id": "c09cbbc5-acd2-4441-92ee-b9480e5f298f",
   "metadata": {},
   "outputs": [],
   "source": [
    "# Team development is easier\n",
    "# Reduces bugs\n",
    "# Promotes cleaner architecture\n",
    "# Faster updates and enhancements"
   ]
  },
  {
   "cell_type": "code",
   "execution_count": null,
   "id": "6ca9ad46-91b2-4784-89a0-f7eeb381e3a8",
   "metadata": {},
   "outputs": [],
   "source": []
  },
  {
   "cell_type": "code",
   "execution_count": null,
   "id": "6c0a326a-2c8a-4570-b5d1-c7ca0e7f73d4",
   "metadata": {},
   "outputs": [],
   "source": [
    "# 18. Explain how abstraction enhances code reusability and modularity in Python programs."
   ]
  },
  {
   "cell_type": "code",
   "execution_count": null,
   "id": "8013833d-d558-4e4f-8470-2561ca75ac87",
   "metadata": {},
   "outputs": [],
   "source": [
    "# Allows defining reusable interfaces\n",
    "# Promotes modular development\n",
    "# Facilitates testing and debugging independently"
   ]
  },
  {
   "cell_type": "code",
   "execution_count": null,
   "id": "fc80fca6-b556-4dbf-a022-819b0bbf4812",
   "metadata": {},
   "outputs": [],
   "source": []
  },
  {
   "cell_type": "code",
   "execution_count": null,
   "id": "f2d4bc55-ccb7-46e5-9de9-82f2a7b3c28f",
   "metadata": {},
   "outputs": [],
   "source": [
    "# 19. Create a Python class for a library system, implementing abstraction by defining common methods (e.g., `add_book()`, `borrow_book()`) in an abstract base class."
   ]
  },
  {
   "cell_type": "code",
   "execution_count": 65,
   "id": "c66e71cf-0d37-4afa-9dbc-90ce416f4dac",
   "metadata": {},
   "outputs": [
    {
     "name": "stdout",
     "output_type": "stream",
     "text": [
      "Python borrowed\n"
     ]
    }
   ],
   "source": [
    "from abc import ABC, abstractmethod\n",
    "\n",
    "class Library(ABC):\n",
    "    @abstractmethod\n",
    "    def add_book(self, book): pass\n",
    "\n",
    "    @abstractmethod\n",
    "    def borrow_book(self, title): pass\n",
    "\n",
    "class MyLibrary(Library):\n",
    "    def __init__(self):\n",
    "        self.books = []\n",
    "\n",
    "    def add_book(self, book):\n",
    "        self.books.append(book)\n",
    "\n",
    "    def borrow_book(self, title):\n",
    "        if title in self.books:\n",
    "            self.books.remove(title)\n",
    "            print(f\"{title} borrowed\")\n",
    "        else:\n",
    "            print(\"Book not available\")\n",
    "\n",
    "lib = MyLibrary()\n",
    "lib.add_book(\"Python\")\n",
    "lib.borrow_book(\"Python\")\n"
   ]
  },
  {
   "cell_type": "code",
   "execution_count": null,
   "id": "c5b4daf1-cac5-4b85-b692-24f71814f34d",
   "metadata": {},
   "outputs": [],
   "source": []
  },
  {
   "cell_type": "code",
   "execution_count": null,
   "id": "f0237b7c-99ba-4ab1-a8ce-c689694c2c33",
   "metadata": {},
   "outputs": [],
   "source": [
    "# 20. Describe the concept of method abstraction in Python and how it relates to polymorphism."
   ]
  },
  {
   "cell_type": "code",
   "execution_count": null,
   "id": "26649cf5-b91a-4f43-9ad5-831f0c49d7f3",
   "metadata": {},
   "outputs": [],
   "source": [
    "# Method abstraction means defining method signatures without implementation. It allows subclasses to implement them differently, enabling polymorphism."
   ]
  },
  {
   "cell_type": "code",
   "execution_count": null,
   "id": "2ea4ea97-ef3a-47ae-80e2-a0ed87f35c45",
   "metadata": {},
   "outputs": [],
   "source": []
  },
  {
   "cell_type": "code",
   "execution_count": null,
   "id": "25025e45-8f59-4d12-86df-99cee24202f8",
   "metadata": {},
   "outputs": [],
   "source": [
    "## Composition"
   ]
  },
  {
   "cell_type": "code",
   "execution_count": null,
   "id": "dc9b82eb-69e2-4576-96a3-7434a97c1a84",
   "metadata": {},
   "outputs": [],
   "source": [
    "# 1. Explain the concept of composition in Python and how it is used to build complex objects from simpler ones."
   ]
  },
  {
   "cell_type": "code",
   "execution_count": 189,
   "id": "b31e945c-6631-4e5e-96b4-a7056b6327bb",
   "metadata": {},
   "outputs": [],
   "source": [
    "# Composition is a design principle where one class contains instances of other classes. It models a “has-a” relationship instead of an “is-a” relationship (which is inheritance)."
   ]
  },
  {
   "cell_type": "code",
   "execution_count": null,
   "id": "1708043c-f951-4f3e-b9e6-129cb74ff0e6",
   "metadata": {},
   "outputs": [],
   "source": []
  },
  {
   "cell_type": "code",
   "execution_count": null,
   "id": "3b598e2b-c218-4800-9bc3-7631554871fb",
   "metadata": {},
   "outputs": [],
   "source": [
    "# 2. Describe the difference between composition and inheritance in object-oriented programming."
   ]
  },
  {
   "cell_type": "code",
   "execution_count": null,
   "id": "fad42b83-9eaa-4cb0-b919-a08d1781f30d",
   "metadata": {},
   "outputs": [],
   "source": [
    "# Composition: Has-a relationship (uses parts from other classes)\n",
    "# Inheritance: Is-a relationship (extends other classes)"
   ]
  },
  {
   "cell_type": "code",
   "execution_count": null,
   "id": "e2a98125-3223-4293-9640-99dbf12c98ff",
   "metadata": {},
   "outputs": [],
   "source": []
  },
  {
   "cell_type": "code",
   "execution_count": null,
   "id": "ee583d1d-36eb-4507-8f82-8a8736e207fc",
   "metadata": {},
   "outputs": [],
   "source": [
    "# 3. Create a Python class called `Author` with attributes for name and birthdate. Then, create a `Book` class that contains an instance of `Author` as a composition. Provide an example of creating a `Book` object."
   ]
  },
  {
   "cell_type": "code",
   "execution_count": 67,
   "id": "ceee9d51-46e9-4687-8911-aac004b4d391",
   "metadata": {},
   "outputs": [
    {
     "name": "stdout",
     "output_type": "stream",
     "text": [
      "Harry Potter J.K. Rowling\n"
     ]
    }
   ],
   "source": [
    "class Author:\n",
    "    def __init__(self, name, birthdate):\n",
    "        self.name = name\n",
    "        self.birthdate = birthdate\n",
    "\n",
    "class Book:\n",
    "    def __init__(self, title, author):\n",
    "        self.title = title\n",
    "        self.author = author  # Composition\n",
    "\n",
    "a = Author(\"J.K. Rowling\", \"1965-07-31\")\n",
    "b = Book(\"Harry Potter\", a)\n",
    "print(b.title, b.author.name)\n"
   ]
  },
  {
   "cell_type": "code",
   "execution_count": null,
   "id": "16544fa9-74a1-4ab3-b463-dad1e288a5f8",
   "metadata": {},
   "outputs": [],
   "source": []
  },
  {
   "cell_type": "code",
   "execution_count": null,
   "id": "323fd7ad-59fb-4633-be0f-a44d409871f7",
   "metadata": {},
   "outputs": [],
   "source": [
    "# 4. Discuss the benefits of using composition over inheritance in Python, especially in terms of code flexibility and reusability."
   ]
  },
  {
   "cell_type": "code",
   "execution_count": 69,
   "id": "ede817f1-b046-46ed-a5c9-b2bd9b3371ec",
   "metadata": {},
   "outputs": [],
   "source": [
    "# More flexible and modular\n",
    "# Avoids issues like the diamond problem\n",
    "# Easier to change or swap components\n",
    "# Encourages loose coupling"
   ]
  },
  {
   "cell_type": "code",
   "execution_count": null,
   "id": "220a8c2a-ff57-454c-9c73-a538113ddd07",
   "metadata": {},
   "outputs": [],
   "source": []
  },
  {
   "cell_type": "code",
   "execution_count": null,
   "id": "3525a1e4-80c6-4f11-a9d2-8aab2b6136a2",
   "metadata": {},
   "outputs": [],
   "source": [
    "# 5. How can you implement composition in Python classes? Provide examples of using composition to create complex objects."
   ]
  },
  {
   "cell_type": "code",
   "execution_count": 71,
   "id": "b0a65704-f50a-4e86-b173-7f211f639a10",
   "metadata": {},
   "outputs": [
    {
     "name": "stdout",
     "output_type": "stream",
     "text": [
      "Engine started\n",
      "Car is moving\n"
     ]
    }
   ],
   "source": [
    "# By creating instances of one class inside another.\n",
    "\n",
    "class Engine:\n",
    "    def start(self):\n",
    "        print(\"Engine started\")\n",
    "\n",
    "class Car:\n",
    "    def __init__(self):\n",
    "        self.engine = Engine()\n",
    "\n",
    "    def drive(self):\n",
    "        self.engine.start()\n",
    "        print(\"Car is moving\")\n",
    "\n",
    "c = Car()\n",
    "c.drive()\n"
   ]
  },
  {
   "cell_type": "code",
   "execution_count": null,
   "id": "b71b4e76-bb49-42a1-828f-9f1b189092ba",
   "metadata": {},
   "outputs": [],
   "source": []
  },
  {
   "cell_type": "code",
   "execution_count": null,
   "id": "81ddb807-eff3-49e4-a8b1-4b526758900f",
   "metadata": {},
   "outputs": [],
   "source": [
    "# 6. Create a Python class hierarchy for a music player system, using composition to represent playlists and songs."
   ]
  },
  {
   "cell_type": "code",
   "execution_count": 77,
   "id": "f4b36b69-8c29-4009-ad5d-52caa39d5b42",
   "metadata": {},
   "outputs": [
    {
     "name": "stdout",
     "output_type": "stream",
     "text": [
      "Song 1\n",
      "Song 2\n"
     ]
    }
   ],
   "source": [
    "class Song:\n",
    "    def __init__(self, title):\n",
    "        self.title = title\n",
    "\n",
    "class Playlist:\n",
    "    def __init__(self):\n",
    "        self.songs = []\n",
    "\n",
    "    def add_song(self, song):\n",
    "        self.songs.append(song)\n",
    "\n",
    "p = Playlist()\n",
    "p.add_song(Song(\"Song 1\"))\n",
    "p.add_song(Song(\"Song 2\"))\n",
    "\n",
    "for s in p.songs:\n",
    "    print(s.title)\n"
   ]
  },
  {
   "cell_type": "code",
   "execution_count": null,
   "id": "00d869ad-a6ed-4b46-aee5-bc179b708ae6",
   "metadata": {},
   "outputs": [],
   "source": []
  },
  {
   "cell_type": "code",
   "execution_count": null,
   "id": "852c211c-6ef5-4500-bba9-d8049bcde88d",
   "metadata": {},
   "outputs": [],
   "source": [
    "# 7. Explain the concept of \"has-a\" relationships in composition and how it helps design software systems."
   ]
  },
  {
   "cell_type": "code",
   "execution_count": null,
   "id": "edb03c6d-833b-4089-a620-d2b02eed38bb",
   "metadata": {},
   "outputs": [],
   "source": [
    "# \"Has-a\" means one class contains another class (e.g., Car has an Engine). It allows modular design and reuse of components."
   ]
  },
  {
   "cell_type": "code",
   "execution_count": null,
   "id": "0d67234e-5b8f-47c3-9abe-7b162c7c57c8",
   "metadata": {},
   "outputs": [],
   "source": []
  },
  {
   "cell_type": "code",
   "execution_count": null,
   "id": "db3f1b45-b6a1-4c81-8ead-443fdc91094e",
   "metadata": {},
   "outputs": [],
   "source": [
    "# 8. Create a Python class for a computer system, using composition to represent components like CPU, RAM, and storage devices."
   ]
  },
  {
   "cell_type": "code",
   "execution_count": 79,
   "id": "4381188b-08c7-40df-b8a8-b7fb127654cc",
   "metadata": {},
   "outputs": [
    {
     "name": "stdout",
     "output_type": "stream",
     "text": [
      "Intel i5 8GB 512GB SSD\n"
     ]
    }
   ],
   "source": [
    "class CPU:\n",
    "    def specs(self):\n",
    "        return \"Intel i5\"\n",
    "\n",
    "class RAM:\n",
    "    def specs(self):\n",
    "        return \"8GB\"\n",
    "\n",
    "class Storage:\n",
    "    def specs(self):\n",
    "        return \"512GB SSD\"\n",
    "\n",
    "class Computer:\n",
    "    def __init__(self):\n",
    "        self.cpu = CPU()\n",
    "        self.ram = RAM()\n",
    "        self.storage = Storage()\n",
    "\n",
    "    def config(self):\n",
    "        print(self.cpu.specs(), self.ram.specs(), self.storage.specs())\n",
    "\n",
    "pc = Computer()\n",
    "pc.config()\n"
   ]
  },
  {
   "cell_type": "code",
   "execution_count": null,
   "id": "6447e392-b3d7-4ed5-b537-d1906325d9f5",
   "metadata": {},
   "outputs": [],
   "source": []
  },
  {
   "cell_type": "code",
   "execution_count": null,
   "id": "5638bc92-4881-4a8b-bb2c-e01c215e237d",
   "metadata": {},
   "outputs": [],
   "source": [
    "# 9. Describe the concept of \"delegation\" in composition and how it simplifies the design of complex systems."
   ]
  },
  {
   "cell_type": "code",
   "execution_count": null,
   "id": "2e3a5233-cae6-472a-9c41-c7d25c34a146",
   "metadata": {},
   "outputs": [],
   "source": [
    "# Delegation is when an object passes work to another object. In composition, the outer object delegates behavior to its components."
   ]
  },
  {
   "cell_type": "code",
   "execution_count": null,
   "id": "e27079d5-1a67-4d49-94e3-8a04cf14e17d",
   "metadata": {},
   "outputs": [],
   "source": []
  },
  {
   "cell_type": "code",
   "execution_count": null,
   "id": "128b18be-2b28-4fd7-aaae-3a3e0455c2cf",
   "metadata": {},
   "outputs": [],
   "source": [
    "# 10. Create a Python class for a car, using composition to represent components like the engine, wheels, and transmission."
   ]
  },
  {
   "cell_type": "code",
   "execution_count": 81,
   "id": "ea264cdc-1212-4a67-bb59-05f066c6cbef",
   "metadata": {},
   "outputs": [
    {
     "name": "stdout",
     "output_type": "stream",
     "text": [
      "Engine started\n",
      "Transmission engaged\n",
      "Wheels rotating\n"
     ]
    }
   ],
   "source": [
    "class Engine:\n",
    "    def start(self): print(\"Engine started\")\n",
    "\n",
    "class Wheels:\n",
    "    def rotate(self): print(\"Wheels rotating\")\n",
    "\n",
    "class Transmission:\n",
    "    def engage(self): print(\"Transmission engaged\")\n",
    "\n",
    "class Car:\n",
    "    def __init__(self):\n",
    "        self.engine = Engine()\n",
    "        self.wheels = Wheels()\n",
    "        self.transmission = Transmission()\n",
    "\n",
    "    def drive(self):\n",
    "        self.engine.start()\n",
    "        self.transmission.engage()\n",
    "        self.wheels.rotate()\n",
    "\n",
    "c = Car()\n",
    "c.drive()\n"
   ]
  },
  {
   "cell_type": "code",
   "execution_count": null,
   "id": "d2994d0b-e356-4f26-abf3-3ec0193105aa",
   "metadata": {},
   "outputs": [],
   "source": []
  },
  {
   "cell_type": "code",
   "execution_count": null,
   "id": "6d2e2f53-eeed-4ebe-9a3d-fb41bdec0e25",
   "metadata": {},
   "outputs": [],
   "source": [
    "# 11. How can you encapsulate and hide the details of composed objects in Python classes to maintain abstraction?"
   ]
  },
  {
   "cell_type": "code",
   "execution_count": 83,
   "id": "4dda4837-1b12-4677-8937-675dcd06cf4b",
   "metadata": {},
   "outputs": [
    {
     "name": "stdout",
     "output_type": "stream",
     "text": [
      "i7\n"
     ]
    }
   ],
   "source": [
    "# Use private attributes and expose them through methods.\n",
    "\n",
    "class CPU:\n",
    "    def __init__(self, model):\n",
    "        self.__model = model\n",
    "\n",
    "    def get_model(self):\n",
    "        return self.__model\n",
    "\n",
    "class Computer:\n",
    "    def __init__(self, cpu):\n",
    "        self.__cpu = cpu\n",
    "\n",
    "    def get_cpu_info(self):\n",
    "        return self.__cpu.get_model()\n",
    "\n",
    "c = Computer(CPU(\"i7\"))\n",
    "print(c.get_cpu_info())\n"
   ]
  },
  {
   "cell_type": "code",
   "execution_count": null,
   "id": "bbd0c7ba-af1d-4f10-9fb5-020430dad747",
   "metadata": {},
   "outputs": [],
   "source": []
  },
  {
   "cell_type": "code",
   "execution_count": null,
   "id": "7518b5c8-bca2-42cb-b311-575debf344dc",
   "metadata": {},
   "outputs": [],
   "source": [
    "# 12. Create a Python class for a university course, using composition to represent students, instructors, and course materials."
   ]
  },
  {
   "cell_type": "code",
   "execution_count": 85,
   "id": "f245238a-24bb-4c38-b37f-3725a2bd57cc",
   "metadata": {},
   "outputs": [
    {
     "name": "stdout",
     "output_type": "stream",
     "text": [
      "AI Dr. Smith ['Alice']\n"
     ]
    }
   ],
   "source": [
    "class Student:\n",
    "    def __init__(self, name):\n",
    "        self.name = name\n",
    "\n",
    "class Instructor:\n",
    "    def __init__(self, name):\n",
    "        self.name = name\n",
    "\n",
    "class Course:\n",
    "    def __init__(self, title):\n",
    "        self.title = title\n",
    "        self.students = []\n",
    "        self.instructor = None\n",
    "\n",
    "    def assign_instructor(self, instructor):\n",
    "        self.instructor = instructor\n",
    "\n",
    "    def enroll_student(self, student):\n",
    "        self.students.append(student)\n",
    "\n",
    "course = Course(\"AI\")\n",
    "course.assign_instructor(Instructor(\"Dr. Smith\"))\n",
    "course.enroll_student(Student(\"Alice\"))\n",
    "print(course.title, course.instructor.name, [s.name for s in course.students])\n"
   ]
  },
  {
   "cell_type": "code",
   "execution_count": null,
   "id": "cf7fba9e-28ef-4ebd-bc2b-65f30f22451d",
   "metadata": {},
   "outputs": [],
   "source": []
  },
  {
   "cell_type": "code",
   "execution_count": null,
   "id": "e050a71e-4feb-43ae-9294-54fd2026ccdd",
   "metadata": {},
   "outputs": [],
   "source": [
    "# 13. Discuss the challenges and drawbacks of composition, such as increased complexity and potential for tight coupling between objects."
   ]
  },
  {
   "cell_type": "code",
   "execution_count": null,
   "id": "2e9dd77a-c9f5-4eae-a9e3-78a71b2da6ae",
   "metadata": {},
   "outputs": [],
   "source": [
    "# Slightly more code\n",
    "# More object management\n",
    "# Can increase indirection and complexity"
   ]
  },
  {
   "cell_type": "code",
   "execution_count": null,
   "id": "c8c84d6b-c1a4-41c9-9a4e-ba74b76a0f64",
   "metadata": {},
   "outputs": [],
   "source": []
  },
  {
   "cell_type": "code",
   "execution_count": null,
   "id": "640ba262-ca92-41d2-8329-8a3fd5621e44",
   "metadata": {},
   "outputs": [],
   "source": [
    "# 14. Create a Python class hierarchy for a restaurant system, using composition to represent menus, dishes, and ingredients."
   ]
  },
  {
   "cell_type": "code",
   "execution_count": 87,
   "id": "2e23458c-2c61-4798-b253-40d7019da6b2",
   "metadata": {},
   "outputs": [
    {
     "name": "stdout",
     "output_type": "stream",
     "text": [
      "Pasta ['Wheat', 'Cheese']\n"
     ]
    }
   ],
   "source": [
    "class Ingredient:\n",
    "    def __init__(self, name):\n",
    "        self.name = name\n",
    "\n",
    "class Dish:\n",
    "    def __init__(self, name, ingredients):\n",
    "        self.name = name\n",
    "        self.ingredients = ingredients\n",
    "\n",
    "class Menu:\n",
    "    def __init__(self):\n",
    "        self.dishes = []\n",
    "\n",
    "    def add_dish(self, dish):\n",
    "        self.dishes.append(dish)\n",
    "\n",
    "m = Menu()\n",
    "m.add_dish(Dish(\"Pasta\", [Ingredient(\"Wheat\"), Ingredient(\"Cheese\")]))\n",
    "for d in m.dishes:\n",
    "    print(d.name, [i.name for i in d.ingredients])\n"
   ]
  },
  {
   "cell_type": "code",
   "execution_count": null,
   "id": "1e13b234-cd1a-48a0-a000-a2bf48c59832",
   "metadata": {},
   "outputs": [],
   "source": []
  },
  {
   "cell_type": "code",
   "execution_count": null,
   "id": "7d5d25e8-25db-4c6d-93d1-1524e2a09e73",
   "metadata": {},
   "outputs": [],
   "source": [
    "# 15. Explain how composition enhances code maintainability and modularity in Python programs."
   ]
  },
  {
   "cell_type": "code",
   "execution_count": null,
   "id": "112fecf0-e45c-472c-a70a-4f389fc458c8",
   "metadata": {},
   "outputs": [],
   "source": [
    "# Components can be reused\n",
    "# You can change parts without affecting the whole\n",
    "# Encourages separation of concerns"
   ]
  },
  {
   "cell_type": "code",
   "execution_count": null,
   "id": "3618e6aa-fa25-45d8-8ad3-293f98e33b38",
   "metadata": {},
   "outputs": [],
   "source": []
  },
  {
   "cell_type": "code",
   "execution_count": null,
   "id": "e4ce2aca-e08f-488e-9afa-e647af980492",
   "metadata": {},
   "outputs": [],
   "source": [
    "# 16. Create a Python class for a computer game character, using composition to represent attributes like weapons, armor, and inventory."
   ]
  },
  {
   "cell_type": "code",
   "execution_count": 89,
   "id": "b675f545-d4e0-4f70-bea7-8675b8699257",
   "metadata": {},
   "outputs": [
    {
     "name": "stdout",
     "output_type": "stream",
     "text": [
      "Knight Sword Shield\n"
     ]
    }
   ],
   "source": [
    "class Weapon:\n",
    "    def __init__(self, name):\n",
    "        self.name = name\n",
    "\n",
    "class Armor:\n",
    "    def __init__(self, type):\n",
    "        self.type = type\n",
    "\n",
    "class Inventory:\n",
    "    def __init__(self):\n",
    "        self.items = []\n",
    "\n",
    "class Character:\n",
    "    def __init__(self, name):\n",
    "        self.name = name\n",
    "        self.weapon = Weapon(\"Sword\")\n",
    "        self.armor = Armor(\"Shield\")\n",
    "        self.inventory = Inventory()\n",
    "\n",
    "hero = Character(\"Knight\")\n",
    "print(hero.name, hero.weapon.name, hero.armor.type)\n"
   ]
  },
  {
   "cell_type": "code",
   "execution_count": null,
   "id": "3486564b-ecd6-415d-b50f-3119c26058d2",
   "metadata": {},
   "outputs": [],
   "source": []
  },
  {
   "cell_type": "code",
   "execution_count": null,
   "id": "5a245ec5-2fe6-401f-9214-dfe500b0bf50",
   "metadata": {},
   "outputs": [],
   "source": [
    "# 17. Describe the concept of \"aggregation\" in composition and how it differs from simple composition."
   ]
  },
  {
   "cell_type": "code",
   "execution_count": null,
   "id": "4e25ff48-e426-49eb-8e5d-8d200fa83e15",
   "metadata": {},
   "outputs": [],
   "source": [
    "# Aggregation: Has-a relationship, but the part can exist independently.\n",
    "# Composition: Has-a relationship, but the part cannot exist without the whole."
   ]
  },
  {
   "cell_type": "code",
   "execution_count": null,
   "id": "d2ec802e-140b-430a-985e-50dfcb29ab36",
   "metadata": {},
   "outputs": [],
   "source": []
  },
  {
   "cell_type": "code",
   "execution_count": null,
   "id": "8ace8750-efa1-4fc8-94fe-266965439fff",
   "metadata": {},
   "outputs": [],
   "source": [
    "# 18. Create a Python class for a house, using composition to represent rooms, furniture, and appliances."
   ]
  },
  {
   "cell_type": "code",
   "execution_count": 91,
   "id": "d1e993b5-8029-4d63-9b70-575f9950d35b",
   "metadata": {},
   "outputs": [
    {
     "name": "stdout",
     "output_type": "stream",
     "text": [
      "['Bedroom', 'Kitchen']\n",
      "['Sofa']\n",
      "['Fridge']\n"
     ]
    }
   ],
   "source": [
    "class Room:\n",
    "    def __init__(self, name): self.name = name\n",
    "\n",
    "class Furniture:\n",
    "    def __init__(self, item): self.item = item\n",
    "\n",
    "class Appliance:\n",
    "    def __init__(self, appliance): self.appliance = appliance\n",
    "\n",
    "class House:\n",
    "    def __init__(self):\n",
    "        self.rooms = [Room(\"Bedroom\"), Room(\"Kitchen\")]\n",
    "        self.furniture = [Furniture(\"Sofa\")]\n",
    "        self.appliances = [Appliance(\"Fridge\")]\n",
    "\n",
    "h = House()\n",
    "print([r.name for r in h.rooms])\n",
    "print([f.item for f in h.furniture])\n",
    "print([a.appliance for a in h.appliances])\n"
   ]
  },
  {
   "cell_type": "code",
   "execution_count": null,
   "id": "cf68f042-d2e3-43d4-bd3d-5ba6000c819c",
   "metadata": {},
   "outputs": [],
   "source": []
  },
  {
   "cell_type": "code",
   "execution_count": null,
   "id": "62c7ff04-b13d-4b6d-9ca9-cf728cadf479",
   "metadata": {},
   "outputs": [],
   "source": [
    "# 19. How can you achieve flexibility in composed objects by allowing them to be replaced or modified dynamically at runtime?"
   ]
  },
  {
   "cell_type": "code",
   "execution_count": 75,
   "id": "298ec226-9912-4d8b-81c9-72b4c5856319",
   "metadata": {},
   "outputs": [
    {
     "name": "stdout",
     "output_type": "stream",
     "text": [
      "26\n",
      "28\n"
     ]
    }
   ],
   "source": [
    "# You can add/remove/replace parts at runtime.\n",
    "\n",
    "class Wheel:\n",
    "    def __init__(self, size):\n",
    "        self.size = size\n",
    "\n",
    "class Bike:\n",
    "    def __init__(self):\n",
    "        self.wheel = Wheel(26)\n",
    "\n",
    "    def change_wheel(self, new_wheel):\n",
    "        self.wheel = new_wheel\n",
    "\n",
    "b = Bike()\n",
    "print(b.wheel.size)\n",
    "b.change_wheel(Wheel(28))\n",
    "print(b.wheel.size)\n"
   ]
  },
  {
   "cell_type": "code",
   "execution_count": null,
   "id": "523eb7eb-f69f-4da1-96d1-ae62367d9608",
   "metadata": {},
   "outputs": [],
   "source": []
  },
  {
   "cell_type": "code",
   "execution_count": null,
   "id": "2f9c8050-a586-4f9b-a5cd-4a6279b463ab",
   "metadata": {},
   "outputs": [],
   "source": [
    "# 20. Create a Python class for a social media application, using composition to represent users, posts, and comments."
   ]
  },
  {
   "cell_type": "code",
   "execution_count": 73,
   "id": "8b6c0c52-0da2-403c-a259-c144977853d1",
   "metadata": {},
   "outputs": [
    {
     "name": "stdout",
     "output_type": "stream",
     "text": [
      "john123: Hello world!\n",
      "Comment by alice456: Nice post!\n"
     ]
    }
   ],
   "source": [
    "class User:\n",
    "    def __init__(self, username): self.username = username\n",
    "\n",
    "class Post:\n",
    "    def __init__(self, content, author): self.content = content; self.author = author\n",
    "    def display(self): print(f\"{self.author.username}: {self.content}\")\n",
    "\n",
    "class Comment:\n",
    "    def __init__(self, text, user): self.text = text; self.user = user\n",
    "\n",
    "post = Post(\"Hello world!\", User(\"john123\"))\n",
    "comment = Comment(\"Nice post!\", User(\"alice456\"))\n",
    "post.display()\n",
    "print(f\"Comment by {comment.user.username}: {comment.text}\")\n"
   ]
  },
  {
   "cell_type": "code",
   "execution_count": null,
   "id": "814f2e8a-56bc-4973-97f5-c9fa8febb40f",
   "metadata": {},
   "outputs": [],
   "source": []
  },
  {
   "cell_type": "code",
   "execution_count": null,
   "id": "1517275c-9ddd-4f0b-95e7-d75fc8ef1ef4",
   "metadata": {},
   "outputs": [],
   "source": [
    "###################################################### END ############################################################"
   ]
  }
 ],
 "metadata": {
  "kernelspec": {
   "display_name": "Python [conda env:base] *",
   "language": "python",
   "name": "conda-base-py"
  },
  "language_info": {
   "codemirror_mode": {
    "name": "ipython",
    "version": 3
   },
   "file_extension": ".py",
   "mimetype": "text/x-python",
   "name": "python",
   "nbconvert_exporter": "python",
   "pygments_lexer": "ipython3",
   "version": "3.12.7"
  }
 },
 "nbformat": 4,
 "nbformat_minor": 5
}
